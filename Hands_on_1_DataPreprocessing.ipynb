{
  "cells": [
    {
      "cell_type": "markdown",
      "metadata": {
        "id": "view-in-github",
        "colab_type": "text"
      },
      "source": [
        "<a href=\"https://colab.research.google.com/github/TransRadOnc-HIT/multi-omics-SSMP2023/blob/main/Hands_on_1_DataPreprocessing.ipynb\" target=\"_parent\"><img src=\"https://colab.research.google.com/assets/colab-badge.svg\" alt=\"Open In Colab\"/></a>"
      ]
    },
    {
      "cell_type": "markdown",
      "source": [
        "# **Multi-Omics Data Pre-Processing**"
      ],
      "metadata": {
        "id": "_FfMq1C8of4n"
      }
    },
    {
      "cell_type": "markdown",
      "metadata": {
        "id": "idHb_Fvf2xbL"
      },
      "source": [
        "---\n",
        "\n",
        "In this notebook, we'll explore essential preprocessing steps for data integration. The chosen preprocessing techniques often depend on the specific problem, technology used,\n",
        "and the number of available samples. Different omics layers might require distinct preprocessing workflows. Here, we present a  pipeline that can be tailored to specific requirements.\n",
        "\n",
        "We'll cover the following:\n",
        "- **Dataset overview**: A brief glimpse of our data.\n",
        "- **Removing redundant or non-essential features**: Sifting through to retain pertinent data.\n",
        "- **Handling missing values**: Strategies to pinpoint and manage missing data .\n",
        "- **Eliminating highly correlated features**: Pruning data that's overly repetitive or analogous.\n",
        "- **Data standardization**\n",
        "\n",
        "\n",
        "---\n"
      ]
    },
    {
      "cell_type": "markdown",
      "metadata": {
        "id": "GK8nM0cEESEz"
      },
      "source": [
        "\n",
        "\n",
        "---\n",
        "\n",
        "\n",
        "The dataset for this notebook consists of data from 298 H&N cancer patients across four different institutions.\n",
        "\n",
        "- **Data Reference**: [The Cancer Imaging Archive - Head-Neck-PET-CT](https://wiki.cancerimagingarchive.net/display/Public/Head-Neck-PET-CT)\n",
        "\n",
        "\n",
        "**Omics Examined**: FDG-PET/CT, RT CT, and RTDOSE\n"
      ]
    },
    {
      "cell_type": "markdown",
      "metadata": {
        "id": "Ofl3Hj2sSAbt"
      },
      "source": [
        "### **Setup**"
      ]
    },
    {
      "cell_type": "markdown",
      "metadata": {
        "id": "XK2eKHpoXIcl"
      },
      "source": [
        "We'll install the lifelines package, essential for the survival analysis tasks we'll be tackling later in this notebook."
      ]
    },
    {
      "cell_type": "code",
      "execution_count": null,
      "metadata": {
        "id": "hWyEa3zwCQFL"
      },
      "outputs": [],
      "source": [
        "!pip install lifelines"
      ]
    },
    {
      "cell_type": "markdown",
      "metadata": {
        "id": "z2zs1uLNXSV0"
      },
      "source": [
        "In the next cell, we're importing necessary libraries for our analysis: **numpy** and **pandas** for data manipulation, **matplotlib** and **seaborn** for data visualization, **sklearn** for machine learning tools and preprocessing, and **os** for handling file paths."
      ]
    },
    {
      "cell_type": "code",
      "execution_count": null,
      "metadata": {
        "id": "5BRj8l4YSBXI"
      },
      "outputs": [],
      "source": [
        "import numpy as np #Fundamental package for scientific computing\n",
        "import pandas as pd #For data manipulation and analysis\n",
        "import matplotlib.pyplot as plt #2D plotting library\n",
        "import seaborn as sns #Python data visualization library based on matplotlib\n",
        "import warnings #Typically issued in situations where it is useful to alert the user of some condition in a program\n",
        "from collections import Counter #Supports iterations\n",
        "from os import path\n",
        "import os\n",
        "from sklearn.feature_selection import VarianceThreshold\n",
        "from sklearn.preprocessing import MinMaxScaler # Feature scaling\n",
        "\n",
        "import numpy as np\n",
        "import matplotlib.pyplot as plt\n",
        "from lifelines import KaplanMeierFitter\n",
        "warnings.filterwarnings('ignore') #Ignores all warnings\n",
        "\n",
        "data_path = \"https://raw.githubusercontent.com/TransRadOnc-HIT/multi-omics-SSMP2023/main/data/hands-on1/\""
      ]
    },
    {
      "cell_type": "markdown",
      "metadata": {
        "id": "I3uivwNdR1_t"
      },
      "source": [
        "### **Data loading and intial structuring**\n",
        "\n"
      ]
    },
    {
      "cell_type": "markdown",
      "metadata": {
        "id": "bQo-tqyWGWp0"
      },
      "source": [
        "In this section, we import the survival and omics datasets, refining the data for consistency in identifiers and structuring."
      ]
    },
    {
      "cell_type": "code",
      "execution_count": null,
      "metadata": {
        "id": "zpPYLS7Y1Wfz",
        "colab": {
          "base_uri": "https://localhost:8080/"
        },
        "outputId": "aa9a89f8-8312-4289-a4c4-d1f1ea38c0e4"
      },
      "outputs": [
        {
          "output_type": "stream",
          "name": "stdout",
          "text": [
            "RAW MULTIOMICS DATASET\n",
            "CLINICAL DATA : (298, 15)\n",
            "CT : (274, 1218)\n",
            "DD : (175, 1476)\n",
            "PET : (271, 1476)\n"
          ]
        }
      ],
      "source": [
        "print(\"RAW MULTIOMICS DATASET\")\n",
        "\n",
        "survival = pd.read_csv(data_path + \"survival.csv\",sep=',') #Reading survival data\n",
        "survival = survival.set_index('PatientID')\n",
        "\n",
        "# Drop any rows with NaN values\n",
        "survival.dropna(inplace=True)\n",
        "\n",
        "dataframe0 = pd.read_csv(data_path + \"clinical.csv\",sep=',',dtype={'inst': object}) #Reading clinical dataset\n",
        "dataframe0 = dataframe0.set_index('PatientID')\n",
        "dataframe0[\"Sex\"] = dataframe0[\"Sex\"].str.upper()\n",
        "dataframe0.index.name = None\n",
        "print(\"CLINICAL DATA :\", dataframe0.shape)\n",
        "\n",
        "dataframe1 = pd.read_csv(data_path + \"radiomics_CT.csv\",sep=',') #Reading CT dataset\n",
        "dataframe1 = dataframe1.set_index('PatientID')\n",
        "dataframe1.index.name = None\n",
        "print(\"CT :\", dataframe1.shape)\n",
        "\n",
        "dataframe2 = pd.read_csv(data_path + \"radiomics_DD.csv\",sep=',') #Reading DD dataset\n",
        "dataframe2 = dataframe2.set_index('PatientID')\n",
        "dataframe2.index.name = None\n",
        "print(\"DD :\", dataframe2.shape)\n",
        "\n",
        "dataframe3 = pd.read_csv(data_path + \"radiomics_PT.csv\",sep=',') #Reading PET dataset\n",
        "dataframe3 = dataframe3.set_index('PatientID')\n",
        "dataframe3.index.name = None\n",
        "print(\"PET :\", dataframe3.shape)\n",
        "\n"
      ]
    },
    {
      "cell_type": "markdown",
      "metadata": {
        "id": "knjwn3lhDARF"
      },
      "source": [
        "#### **Clinical feature preprocessing**\n",
        "Before diving into our preprocessing steps, we'll first refine the clinical features. We establish a 30% threshold for permissible missing data within each column. By computing the missing data percentages for every feature and subsequently filtering out those surpassing our threshold, we ensure that our remaining features have a maximum of 30% missing values. This approach not only elevates data quality but also minimizes potential biases as we move forward."
      ]
    },
    {
      "cell_type": "code",
      "execution_count": null,
      "metadata": {
        "id": "07iZWoXFDEMY"
      },
      "outputs": [],
      "source": [
        "threshold = 20  # Set missing data threshold in %\n",
        "\n",
        "# Calculate the percentage of missing data for each column\n",
        "missing_percentage = dataframe0.isna().mean().round(4) * 100\n",
        "\n",
        "# Columns to keep based on the shold\n",
        "cols_to_keep = missing_percentage[missing_percentage <= threshold].index.tolist()\n",
        "\n",
        "# Filter dataframe based on these columns\n",
        "dataframe0 = dataframe0[cols_to_keep]\n"
      ]
    },
    {
      "cell_type": "markdown",
      "metadata": {
        "id": "W1soTZa2DoBz"
      },
      "source": [
        "In our next step, we'll be binning continuous data into distinct categories. This technique aids in simplifying our analysis, making visualizations clearer, and facilitates certain statistical tests. However, keep in mind that while binning provides this clarity, it can result in a loss of granular information. Additionally, our chosen bin boundaries can introduce biases. As we proceed, always consider the trade-offs between the ease of interpretation and the potential loss or distortion of data."
      ]
    },
    {
      "cell_type": "code",
      "execution_count": null,
      "metadata": {
        "id": "GxW_KNh5Dnj_"
      },
      "outputs": [],
      "source": [
        "def bin_feature(dataframe, feature, na_placeholder=np.nan, na_value='NA'):\n",
        "    \"\"\"\n",
        "    Bins a continuous feature into specified intervals.\n",
        "\n",
        "    Parameters:\n",
        "    - dataframe (pd.DataFrame): DataFrame containing the feature to be binned.\n",
        "    - feature (str): Name of the feature to bin.\n",
        "    - na_placeholder (int, float or None, optional): Placeholder value for NA values. Defaults to np.nan.\n",
        "    - na_value (str or int, optional): The representation of NA in the data. Defaults to 'NA'.\n",
        "\n",
        "    Returns:\n",
        "    - pd.DataFrame: DataFrame with the binned feature.\n",
        "    \"\"\"\n",
        "\n",
        "    # Intervals for binning\n",
        "    bins = [0, 40, 70, 100]\n",
        "    labels = ['Low', 'Medium', 'High']\n",
        "\n",
        "    # Handle NA values\n",
        "    dataframe[feature] = dataframe[feature].replace(na_value, na_placeholder)\n",
        "\n",
        "    # Create a new binned column\n",
        "    dataframe[f'{feature}'] = pd.cut(dataframe[feature].astype(float), bins=bins, labels=labels, right=True, include_lowest=True)\n",
        "\n",
        "    return dataframe\n",
        "dataframe0 =  bin_feature(dataframe0, \"PET_time\")\n",
        "dataframe0 =  bin_feature(dataframe0, \"RT_time\")\n",
        "dataframe0 =  bin_feature(dataframe0, \"RT_endtime\")\n",
        "\n",
        "# Defining the bins for age categorization\n",
        "bins = [0, 39, 65, float('inf')]\n",
        "labels = ['<40y', '40-65y', '>65y']\n",
        "\n",
        "# Bin the age feature\n",
        "dataframe0['Age'] = pd.cut(dataframe0['Age'], bins=bins, labels=labels, right=True, include_lowest=True)\n",
        "\n"
      ]
    },
    {
      "cell_type": "markdown",
      "metadata": {
        "id": "cG2sI-u5Kfoa"
      },
      "source": [
        "\n",
        "Fianlly we perform one-hot encoding on the clinical features, converting categorical variables into a format that can be provided to machine learning algorithms. By setting drop_first=True, we avoid multicollinearity issues. After encoding, the dataframe is then transposed, flipping its rows and columns to match the other omics dataframes."
      ]
    },
    {
      "cell_type": "code",
      "execution_count": null,
      "metadata": {
        "id": "BEhzbLi61_Sz"
      },
      "outputs": [],
      "source": [
        "#one hot encodin\n",
        "dataframe0 = pd.get_dummies(dataframe0, drop_first=True)\n",
        "dataframe0\n"
      ]
    },
    {
      "cell_type": "markdown",
      "metadata": {
        "id": "1joCZKejAym5"
      },
      "source": [
        "#### **Adjusting dataframes**\n",
        "In this code segment, we consolidate our datasets into a dictionary, `dataframes`, where each dataset is named by its type: CLI for clinical data, CT for CT radiomics, DD for dose distrubtion, PET for PET radiomics.\n",
        "\n"
      ]
    },
    {
      "cell_type": "code",
      "execution_count": null,
      "metadata": {
        "id": "M9luCD-wXAjp"
      },
      "outputs": [],
      "source": [
        "dataframes = {\n",
        "    \"CLI\":dataframe0,\n",
        "    \"CT\": dataframe1,\n",
        "    \"DD\": dataframe2,\n",
        "    \"PET\": dataframe3\n",
        "}\n"
      ]
    },
    {
      "cell_type": "markdown",
      "metadata": {
        "id": "qvvx1SJJHj44"
      },
      "source": [
        "To make future plotting and visualization tasks more straightforward, we then prefix the row indices of each dataframe with its respective omics or modality name. This way, each row identifier will clearly indicate the dataset source, simplifying any subsequent comparative analyses or visual representations. The shape of each dataframe is printed, providing a quick overview of the number of samples and features within each dataset."
      ]
    },
    {
      "cell_type": "code",
      "execution_count": null,
      "metadata": {
        "id": "w25hJ6q3Hlas"
      },
      "outputs": [],
      "source": [
        "# Iterate through dataframes and prepend omics name to column names for easier visualization\n",
        "for omics_name, df in dataframes.items():\n",
        "    # Check if the first column already starts with the omics_name\n",
        "    if not df.columns[0].startswith(f\"{omics_name}_\"):\n",
        "        new_columns = [f\"{omics_name}_{col}\" for col in df.columns]\n",
        "        df.columns = new_columns\n",
        "    print(f\"{omics_name}: {df.shape}\")"
      ]
    },
    {
      "cell_type": "markdown",
      "metadata": {
        "id": "-v7jy3yPEspx"
      },
      "source": [
        "### **Data overview: omics layers & survival outcomes**"
      ]
    },
    {
      "cell_type": "markdown",
      "metadata": {
        "id": "2gd_Hka5JDtm"
      },
      "source": [
        "Next we iterate through each dataframe and print a snapshot of its content, a concise summary, and basic descriptive statistics to offer an initial understanding of its structure and characteristics."
      ]
    },
    {
      "cell_type": "code",
      "execution_count": null,
      "metadata": {
        "id": "y7vyKeOHAAV-"
      },
      "outputs": [],
      "source": [
        "for omics_name, df in dataframes.items():\n",
        "    print(f\"############### {omics_name} ###############\")\n",
        "    print(df.head())\n",
        "    print(df.info())\n",
        "    print(df.describe())"
      ]
    },
    {
      "cell_type": "markdown",
      "metadata": {
        "id": "gC5_1hfSCJuE"
      },
      "source": [
        "#### **Outcome exploration**\n",
        "Time-to-event data, also known as survival data, deals with the time until the occurrence of an event of interest (e.g., death, failure, recurrence, etc.). One of the most common graphical representations of time-to-event data is the Kaplan-Meier survival curve.\n",
        "\n",
        "To visualize time-to-event data in Python, the lifelines library is commonly used. Here's how to do it:"
      ]
    },
    {
      "cell_type": "code",
      "execution_count": null,
      "metadata": {
        "colab": {
          "base_uri": "https://localhost:8080/",
          "height": 472
        },
        "id": "HyWeJ5ISCKN-",
        "outputId": "95e5d0ae-3e2a-4c2b-99bc-2b10a0dd0a64"
      },
      "outputs": [
        {
          "output_type": "display_data",
          "data": {
            "text/plain": [
              "<Figure size 640x480 with 1 Axes>"
            ],
            "image/png": "[encoded data removed]"
          },
          "metadata": {}
        }
      ],
      "source": [
        "kmf = KaplanMeierFitter()\n",
        "kmf.fit(survival[\"Survival\"], survival[\"Death\"])\n",
        "\n",
        "kmf.plot()\n",
        "plt.title(\"Kaplan-Meier Survival Curve\")\n",
        "plt.xlabel(\"Time\")\n",
        "plt.ylabel(\"Probability of survival\")\n",
        "plt.grid(True)\n",
        "plt.show()"
      ]
    },
    {
      "cell_type": "markdown",
      "metadata": {
        "id": "4aEG5axRLo5O"
      },
      "source": [
        "The following functions aid in visualizing Kaplan-Meier survival curves for individual one-hot encoded features, as well as for lists of features. These visualizations help analyze the impact of clinical features on survival outcomes. We can first take a look at the clinical features:"
      ]
    },
    {
      "cell_type": "code",
      "source": [
        "column_dict = {col: i for i, col in enumerate(dataframes[\"CLI\"].columns)}\n",
        "column_dict"
      ],
      "metadata": {
        "id": "-hM8ABZ_57Xo"
      },
      "execution_count": null,
      "outputs": []
    },
    {
      "cell_type": "markdown",
      "source": [
        "and then we can plot for the feature of interest by specifying its index e.g. for example, to look at Age_40-65y we choose index 4. We can see that patients from between 40 and 65 years old have a higher survival probility."
      ],
      "metadata": {
        "id": "6CQ7xcDo6Oqc"
      }
    },
    {
      "cell_type": "code",
      "execution_count": null,
      "metadata": {
        "colab": {
          "base_uri": "https://localhost:8080/",
          "height": 472
        },
        "id": "dVH6lU3TLoS3",
        "outputId": "b52747dc-1066-4ce7-d7c7-3691774595d9"
      },
      "outputs": [
        {
          "output_type": "display_data",
          "data": {
            "text/plain": [
              "<Figure size 640x480 with 1 Axes>"
            ],
            "image/png": "[encoded data removed]"
          },
          "metadata": {}
        }
      ],
      "source": [
        "def plot_km_curve_for_feature(survival_df, dataframe, feature_identifier):\n",
        "    \"\"\"\n",
        "    Plot the Kaplan-Meier survival curves for the specified one-hot encoded feature.\n",
        "\n",
        "    Parameters:\n",
        "    - survival_df: The survival data DataFrame.\n",
        "    - dataframe: The DataFrame with one-hot encoded features.\n",
        "    - feature_identifier: Either the name or the index of the one-hot encoded feature to plot.\n",
        "\n",
        "    Returns: None\n",
        "    \"\"\"\n",
        "    kmf = KaplanMeierFitter()\n",
        "\n",
        "    # Check if the identifier is an integer (indicating an index). If so, get the feature name by index.\n",
        "    if isinstance(feature_identifier, int):\n",
        "        feature_name = dataframe.columns[feature_identifier]\n",
        "    else:\n",
        "        feature_name = feature_identifier\n",
        "\n",
        "    # Find common patients between the two dataframes\n",
        "    common_patients = survival_df.index.intersection(dataframe.index)\n",
        "\n",
        "    # Group 0\n",
        "    idx_0 = dataframe.loc[common_patients,feature_name] == 0\n",
        "    patient_ids_0 = common_patients[idx_0]\n",
        "    kmf.fit(survival_df.loc[patient_ids_0, \"Survival\"], survival_df.loc[patient_ids_0, \"Death\"], label=f'{feature_name}_0')\n",
        "    kmf.plot()\n",
        "\n",
        "    # Group 1\n",
        "    idx_1 = dataframe.loc[ common_patients,feature_name] == 1\n",
        "    patient_ids_1 = common_patients[idx_1]\n",
        "    kmf.fit(survival_df.loc[patient_ids_1, \"Survival\"], survival_df.loc[patient_ids_1, \"Death\"], label=f'{feature_name}_1')\n",
        "    kmf.plot()\n",
        "\n",
        "    plt.title(f\"Kaplan-Meier Survival Curve for {feature_name}\")\n",
        "    plt.xlabel(\"Time\")\n",
        "    plt.ylabel(\"Probability of survival\")\n",
        "    plt.grid(True)\n",
        "    plt.show()\n",
        "\n",
        "# Usage example:\n",
        "plot_km_curve_for_feature(survival, dataframes[\"CLI\"], 4)"
      ]
    },
    {
      "cell_type": "markdown",
      "metadata": {
        "id": "Ny7U14g1Yqe_"
      },
      "source": [
        "Next we can plot features against each other, e.g., we can look at the different between institutions 2, 3 and 4."
      ]
    },
    {
      "cell_type": "code",
      "execution_count": null,
      "metadata": {
        "colab": {
          "base_uri": "https://localhost:8080/",
          "height": 472
        },
        "id": "Sbu0KBDSM7vA",
        "outputId": "71969494-a689-4d01-c71a-a337b6f92160"
      },
      "outputs": [
        {
          "output_type": "display_data",
          "data": {
            "text/plain": [
              "<Figure size 640x480 with 1 Axes>"
            ],
            "image/png": "[encoded data removed]"
          },
          "metadata": {}
        }
      ],
      "source": [
        "def plot_km_curve_for_features(survival_df, dataframe, features, value=1):\n",
        "    \"\"\"\n",
        "    Plot the Kaplan-Meier survival curves for a list of specified features based on a given value (0 or 1).\n",
        "\n",
        "    Parameters:\n",
        "    - survival_df: The survival data DataFrame.\n",
        "    - dataframe: The DataFrame with one-hot encoded features.\n",
        "    - features: List of features to plot.\n",
        "    - value: The value (0 or 1) to filter the data on for all features. Default is 1.\n",
        "\n",
        "    Returns: None\n",
        "    \"\"\"\n",
        "    kmf = KaplanMeierFitter()\n",
        "\n",
        "    # Find common patients between the two dataframes\n",
        "    common_patients = survival_df.index.intersection(dataframe.index)\n",
        "\n",
        "    for feature in features:\n",
        "        # Check if the feature is given as an integer (indicating index). If so, get the feature name by index.\n",
        "        if isinstance(feature, int):\n",
        "            feature = dataframe.columns[feature]\n",
        "\n",
        "        idx = dataframe.loc[common_patients,feature] == value\n",
        "        patient_ids = common_patients[idx]\n",
        "        kmf.fit(survival_df.loc[patient_ids, \"Survival\"], survival_df.loc[patient_ids, \"Death\"], label=feature)\n",
        "        kmf.plot()\n",
        "\n",
        "    plt.title(f\"Kaplan-Meier Survival Curves\")\n",
        "    plt.xlabel(\"Time\")\n",
        "    plt.ylabel(\"Probability of survival\")\n",
        "    plt.grid(True)\n",
        "    plt.legend()\n",
        "    plt.show()\n",
        "\n",
        "# Usage example:\n",
        "features_to_plot = [0, 1, 2]\n",
        "plot_km_curve_for_features(survival, dataframes[\"CLI\"], features_to_plot)"
      ]
    },
    {
      "cell_type": "markdown",
      "metadata": {
        "id": "Cc5wFpkMRnRD"
      },
      "source": [
        "### **Removal of redundant or non-essential features**"
      ]
    },
    {
      "cell_type": "markdown",
      "metadata": {
        "id": "TP12x3IJRgre"
      },
      "source": [
        "Next, we will tackle the challenge of handling duplicated data in our dataset. Duplicate features or samples, such as multiple probes for the same gene in gene expression data or radiomics features extracted from similar rois, can introduce noise and affect the accuracy of our analyses. Therefore, our next step is to systematically identify and remove these redundancies to ensure the reliability of our data."
      ]
    },
    {
      "cell_type": "code",
      "execution_count": null,
      "metadata": {
        "id": "HO2sAJd9RhG0"
      },
      "outputs": [],
      "source": [
        "def remove_duplicated_data(dataframes_dict, print_output=True):\n",
        "  \"\"\"\n",
        "  Processes a dictionary of DataFrames to remove both duplicated rows and columns from each DataFrame.\n",
        "  It also provides an option to print the original and deduplicated shapes of the DataFrames.\n",
        "\n",
        "  Parameters:\n",
        "    dataframes_dict (dict): A dictionary where keys are strings representing the names (or types)\n",
        "                            of DataFrames, and values are the corresponding pandas DataFrames.\n",
        "\n",
        "    print_output (bool, optional): If set to True (default), the function will print the original\n",
        "                                   and deduplicated shapes of each DataFrame. If set to False, no output will be printed.\n",
        "\n",
        "  Returns:\n",
        "    tuple: A tuple containing two dictionaries:\n",
        "    dataframes_dict (dict): The input dictionary with each DataFrame having duplicated rows and columns removed.\n",
        "    dropped_data (dict): A dictionary where keys are the same as the input dictionary, and values are another dictionary containing:\n",
        "                        \"dropped_rows\": A DataFrame of rows that were detected as duplicates and removed.\n",
        "                        \"dropped_columns\": A list of column names that were detected as duplicates and removed.\n",
        "  \"\"\"\n",
        "  dropped_data = {}  # Dictionary to store the dropped rows and columns for each dataframe\n",
        "\n",
        "  for omic, df in dataframes_dict.items():\n",
        "      original_shape = df.shape\n",
        "\n",
        "      # Reset index temporarily to check for duplicates\n",
        "      temp_df = df.reset_index()\n",
        "\n",
        "      # Track and remove duplicated rows\n",
        "      duplicated_rows = temp_df[temp_df.duplicated()]\n",
        "      deduplicated_df = temp_df.drop_duplicates().set_index(df.index.name or 'index')\n",
        "\n",
        "      # Track and remove duplicated columns\n",
        "      duplicated_columns = df.columns[df.T.duplicated()].tolist()\n",
        "      deduplicated_df = deduplicated_df.T.drop_duplicates().T\n",
        "\n",
        "      # Store dropped rows and columns in the dropped_data dictionary\n",
        "      dropped_data[omic] = {\n",
        "          \"dropped_rows\": duplicated_rows.set_index(df.index.name or 'index'),\n",
        "          \"dropped_columns\": duplicated_columns\n",
        "      }\n",
        "\n",
        "      dataframes_dict[omic] = deduplicated_df\n",
        "\n",
        "      # Print shapes before and after removing duplicates on the same line\n",
        "      if print_output:\n",
        "          print(f\"{omic.upper()}: Original shape {original_shape}, after removing duplicates {deduplicated_df.shape}\")\n",
        "\n",
        "  return dataframes_dict, dropped_data\n",
        "\n",
        "\n",
        "# Call the function with your dataframes_transposed\n",
        "dataframes,dropped_data = remove_duplicated_data(dataframes, print_output=True)\n"
      ]
    },
    {
      "cell_type": "markdown",
      "metadata": {
        "id": "Ov4cOzaUVXnq"
      },
      "source": [
        "On the other hand, you may have uninformative features in your dataset. For instance, we may have invariant features (those whose variance σ2 is null), or those that are null throughout. The following plots represent the population density distribution of feature variance (left) and row sums (right).These uninformative features will add nothing to any sample vs sample or feature vs feature comparisons that we may be interested. We will remove them from our dataset as they contribute with no information to our downstream analyses."
      ]
    },
    {
      "cell_type": "code",
      "execution_count": null,
      "metadata": {
        "id": "AXKBFHrtTPFH"
      },
      "outputs": [],
      "source": [
        "# Determine the number of omics DataFrames\n",
        "num_omics = len(dataframes)\n",
        "\n",
        "# Create subplots for all omics DataFrames\n",
        "fig, axes = plt.subplots(num_omics, 2, figsize=(12, 5 * num_omics))\n",
        "\n",
        "# Iterate through dataframes and create plots for each omics\n",
        "for i, (omics_name, df) in enumerate(dataframes.items()):\n",
        "    # Compute feature variability (variance) for columns\n",
        "    feature_variability = df.var(axis=0, skipna=True)\n",
        "\n",
        "    # Identify columns with all zeros\n",
        "    null_feature_count = (df.sum(axis=0) == 0).sum()\n",
        "\n",
        "    # Create KDE plots for feature variability in the i-th subplot\n",
        "    sns.kdeplot(feature_variability, ax=axes[i, 0])\n",
        "    axes[i, 0].set_title(f'{omics_name} - Feature Variability')\n",
        "    axes[i, 0].set_xlabel('Variance')\n",
        "\n",
        "    # Plot a bar for the count of null features\n",
        "    axes[i, 1].bar(1, null_feature_count)  # Only one bar showing count of all-zero columns\n",
        "    axes[i, 1].set_title(f'{omics_name} - Null Features')\n",
        "    axes[i, 1].set_ylabel('Count of All-Zero Columns')\n",
        "    axes[i, 1].set_xticks([])  # Remove x-ticks as they are not relevant here\n",
        "\n",
        "# Adjust layout and show all plots\n",
        "plt.tight_layout()\n",
        "plt.show()\n"
      ]
    },
    {
      "cell_type": "markdown",
      "metadata": {
        "id": "cEcimSuHd_HJ"
      },
      "source": [
        "Next we implement a feature filtering step to remove features with low variance (below a specified threshold) However, the specific threshold for what constitutes \"low variance\" can depend on the nature of your data and your analysis goals. You may want to adjust the threshold based on your domain knowledge and the specific characteristics of your dataset."
      ]
    },
    {
      "cell_type": "code",
      "execution_count": null,
      "metadata": {
        "id": "erKZ_NegV2Sr"
      },
      "outputs": [],
      "source": [
        "def filter_low_variance_features(dataframes_dict, thresholds=0.001, default_threshold=0.01, print_output=True):\n",
        "  \"\"\"\n",
        "  Processes a dictionary of DataFrames to remove features (columns) that have a variance below a specified threshold.\n",
        "  The function is useful for feature selection, especially in contexts where features with low variance might not contribute significantly to a model.\n",
        "\n",
        "  Parameters:\n",
        "    - dataframes_dict (dict): A dictionary where keys are strings representing the names\n",
        "    (or types) of DataFrames, and values are the corresponding pandas DataFrames.\n",
        "    - thresholds (float, int, or dict, optional): The variance threshold below which features will be removed. It can be:\n",
        "                  A single float or int value applied to all DataFrames.\n",
        "                  A dictionary with keys corresponding to the keys in dataframes_dict and values being the thresholds for each DataFrame. Default is 0.001.\n",
        "    - default_threshold (float, optional): The default variance threshold to use for any DataFrame not specified in the thresholds dictionary. Default is 0.01.\n",
        "    - print_output (bool, optional): If set to True (default), the function will print the shape of each DataFrame after filtering and\n",
        "                                     the names of the dropped features. If set to False, no output will be printed.\n",
        "\n",
        "  Returns:\n",
        "    - tuple: A tuple containing two items:\n",
        "          filtered_dataframes_dict (dict): The input dictionary with low variance features removed from each DataFrame.\n",
        "          dropped_features (dict): A dictionary where keys are the same as the input dictionary, and values are lists of feature names\n",
        "                                  that were dropped due to low variance.\n",
        "  \"\"\"\n",
        "  dropped_features = {}\n",
        "\n",
        "  # Make a copy of the dataframes_dict to avoid modifying the original\n",
        "  filtered_dataframes_dict = dataframes_dict.copy()\n",
        "\n",
        "  if isinstance(thresholds, (float, int)):\n",
        "      thresholds = {omic: thresholds for omic in dataframes_dict.keys()}\n",
        "\n",
        "  for omic, df in filtered_dataframes_dict.items():\n",
        "      threshold = thresholds.get(omic, default_threshold)\n",
        "\n",
        "      selector = VarianceThreshold(threshold=threshold)\n",
        "      selected_data = selector.fit_transform(df)\n",
        "      dropped_indices = ~selector.get_support()\n",
        "      dropped_feature_names = df.columns[dropped_indices]\n",
        "      dropped_features[omic] = dropped_feature_names\n",
        "\n",
        "      df_selected = pd.DataFrame(selected_data, index=df.index, columns=df.columns[selector.get_support()])\n",
        "      filtered_dataframes_dict[omic] = df_selected\n",
        "\n",
        "      num_dropped = len(dropped_feature_names)\n",
        "\n",
        "      if print_output:\n",
        "          print(f\"{omic} after removing low variance features: {df_selected.shape}\")\n",
        "          print(f\"Number of features dropped in {omic}: {num_dropped}\")\n",
        "          if num_dropped > 0:\n",
        "              print(f\"Features dropped in {omic}: {', '.join(dropped_feature_names)}\\n\")\n",
        "\n",
        "  return filtered_dataframes_dict, dropped_features\n",
        "\n",
        "# Example usage with different thresholds for each omic type and a default threshold of 0.03\n",
        "#thresholds = {'CLI': 0.01, 'T2': 0.0001,'T1': 0.0001,'T1Gd': 0.0001,'FLAIR': 0.0001}\n",
        "#default_threshold = 0.01\n",
        "dataframes, uninformative_features = filter_low_variance_features(dataframes,default_threshold=0.01, print_output=True)\n"
      ]
    },
    {
      "cell_type": "markdown",
      "metadata": {
        "id": "1nXJlQfPl35w"
      },
      "source": [
        "### **Dealing with missing values and highly correlated features**"
      ]
    },
    {
      "cell_type": "markdown",
      "metadata": {
        "id": "-ATC3E9Lklpr"
      },
      "source": [
        "We will first display the missing values per omics layer"
      ]
    },
    {
      "cell_type": "code",
      "execution_count": null,
      "metadata": {
        "id": "g3SMFKZ9klGl"
      },
      "outputs": [],
      "source": [
        "# Calculate NA ratios per sample for each omics\n",
        "na_ratios_per_sample = {omic: df.isna().sum() / df.shape[0] for omic, df in dataframes.items()}\n",
        "\n",
        "# Create a plot for each omics\n",
        "fig, axes = plt.subplots(len(dataframes), figsize=(12, 3 * len(dataframes)))\n",
        "\n",
        "for i, (omic, na_ratios) in enumerate(na_ratios_per_sample.items()):\n",
        "    ax = axes[i]\n",
        "    sns.barplot(\n",
        "        x=np.arange(0, na_ratios.shape[0]),\n",
        "        y=na_ratios.values,\n",
        "        ax=ax\n",
        "    )\n",
        "    ax.set_xlabel('Sample')\n",
        "    ax.set_ylabel('Ratio of NAs')\n",
        "    ax.set_title(f'NA Ratios per Sample - {omic}')\n",
        "\n",
        "plt.tight_layout()\n",
        "plt.show()\n"
      ]
    },
    {
      "cell_type": "markdown",
      "metadata": {
        "id": "SnJpCiIUlBVX"
      },
      "source": [
        "How we handle these missing values often depends on the nature of the data and the type of analysis. Here we remove columns containing NaN values from the radiomics dataframes. Common strategies are dropping missing values, imputating missing values, leave-as-is, flagging with a new category. It is important to analyze the patterns of missingness in your data. For instance, are missing values concentrated in specific rows or columns? Is there a pattern or reason why data might be missing? \\\\\n",
        "Here we are dropping the missing values:\n",
        "\n"
      ]
    },
    {
      "cell_type": "code",
      "execution_count": null,
      "metadata": {
        "id": "gEuZkRhBlAmw"
      },
      "outputs": [],
      "source": [
        "def drop_columns_with_nan(dataframes_dict, print_output=True):\n",
        "  \"\"\"\n",
        "  Processes a dictionary of DataFrames to remove columns that contain any NaN values.\n",
        "  This can be particularly useful in data preprocessing where features with missing values\n",
        "  need to be excluded from analyses or models.\n",
        "\n",
        "  Parameters:\n",
        "  - dataframes_dict (dict): A dictionary where keys are strings representing the names (or types) of DataFrames,\n",
        "                            and values are the corresponding pandas DataFrames.\n",
        "\n",
        "  - print_output (bool, optional): If set to True (default), the function will print the shape of each DataFrame\n",
        "                                  after columns with NaN values have been dropped, as well as the names of the removed columns. If set to False, no output will be printed.\n",
        "\n",
        "  Returns:\n",
        "  - new_dataframes_dict (dict): The input dictionary with columns containing NaN values removed from each DataFrame.\n",
        "  \"\"\"\n",
        "  new_dataframes_dict = {}\n",
        "  removed_features = {}\n",
        "  for omic, df in dataframes_dict.items():\n",
        "      # Identify columns with NaN values\n",
        "      nan_columns = df.columns[df.isna().any()].tolist()\n",
        "\n",
        "      # Drop columns with NaN values\n",
        "      new_df = df.dropna(axis=1, how='any')\n",
        "\n",
        "      # Store removed features\n",
        "      removed_features[omic] = nan_columns\n",
        "\n",
        "      new_dataframes_dict[omic] = new_df\n",
        "      if print_output:\n",
        "          print(f\"{omic.upper()} shape after dropping columns with NaN values: {new_df.shape}\")\n",
        "          if nan_columns:\n",
        "              print(f\"Features removed in {omic}: {', '.join(nan_columns)}\")\n",
        "  return new_dataframes_dict\n",
        "\n",
        "# Call the function with your dataframes_transposed\n",
        "dataframes = drop_columns_with_nan(dataframes, print_output=True)"
      ]
    },
    {
      "cell_type": "markdown",
      "metadata": {
        "id": "Tkmj47-wo7vT"
      },
      "source": [
        "Next, we remove columns that are highly correlated based on a specified threshold to mitigate multicollinearity, which can compromise the interpretability and stability of some statistical models. By eliminating redundant features, we aim to enhance model performance and generalization."
      ]
    },
    {
      "cell_type": "code",
      "execution_count": null,
      "metadata": {
        "id": "3wawXofZo7LI"
      },
      "outputs": [],
      "source": [
        "def remove_highly_correlated_features(dataframes_dict, threshold=0.90, print_output=True, plot_heatmap=False):\n",
        "  \"\"\"\n",
        "  Processes a dictionary of DataFrames to remove features that are highly correlated with other features.\n",
        "  High correlations among features can cause multicollinearity issues in certain models, so it can be beneficial to remove such features during data preprocessing.\n",
        "\n",
        "  Parameters:\n",
        "  - dataframes_dict (dict): A dictionary where keys are strings representing the names (or types) of DataFrames, and values are the corresponding pandas DataFrames.\n",
        "\n",
        "  - threshold (float, optional): The correlation coefficient threshold above which features will be considered highly correlated and thus will be removed. Default is 0.90.\n",
        "\n",
        "  - print_output (bool, optional): If set to True (default), the function will print the shape of each DataFrame after removal of highly correlated features,\n",
        "                                   as well as the names of the removed columns. If set to False, no output will be printed.\n",
        "\n",
        "  - plot_heatmap (bool, optional): If set to True, the function will plot a heatmap of the correlation matrix for each DataFrame. This can be useful for visual\n",
        "                                   inspection of correlations among features. Default is False.\n",
        "\n",
        "  Returns:\n",
        "  - tuple: A tuple containing two items:\n",
        "  - dataframes_dict (dict): The input dictionary with highly correlated features removed from each DataFrame.\n",
        "  - dropped_features (dict): A dictionary where keys are the same as the input dictionary, and values are lists of feature names that were dropped due to high correlation.\n",
        "  \"\"\"\n",
        "  dropped_features = {}\n",
        "\n",
        "  for omic, df in dataframes_dict.items():\n",
        "\n",
        "      # Calculate the correlation matrix\n",
        "      corr_matrix = df.corr().abs()\n",
        "\n",
        "      # Create a mask to identify highly correlated features\n",
        "      upper = corr_matrix.where(np.triu(np.ones(corr_matrix.shape), k=1).astype(np.bool))\n",
        "      to_drop = [column for column in upper.columns if any(upper[column] > threshold)]\n",
        "\n",
        "      # Plot the heatmap if required\n",
        "      if plot_heatmap:\n",
        "          plt.figure(figsize=(12, 10))\n",
        "          sns.heatmap(corr_matrix, cmap='coolwarm', vmin=-1, vmax=1)\n",
        "          plt.title(f\"Heatmap of Correlation for {omic}\")\n",
        "          plt.show()\n",
        "\n",
        "      # Drop the highly correlated features\n",
        "      df_filtered = df.drop(columns=to_drop)\n",
        "\n",
        "      # Store the list of removed features\n",
        "      dropped_features[omic] = to_drop\n",
        "\n",
        "      # Update the DataFrame in dataframes_dict\n",
        "      dataframes_dict[omic] = df_filtered\n",
        "\n",
        "      num_dropped = len(to_drop)\n",
        "\n",
        "      if print_output:\n",
        "          print(f\"{omic} after removing highly correlated features: {df_filtered.shape}\")\n",
        "          print(f\"Number of features dropped in {omic}: {num_dropped}\")\n",
        "          if num_dropped > 0:\n",
        "              print(f\"Features dropped in {omic}: {', '.join(to_drop)}\\n\")\n",
        "\n",
        "  return dataframes_dict, dropped_features\n",
        "dataframes, dropped_corr_features = remove_highly_correlated_features(dataframes, print_output=True,plot_heatmap=True,threshold=0.90)"
      ]
    },
    {
      "cell_type": "code",
      "execution_count": null,
      "metadata": {
        "colab": {
          "base_uri": "https://localhost:8080/"
        },
        "id": "n8BKL5XkjvMj",
        "outputId": "9eedd9fe-e64a-4a8d-de05-9bc261fcaaea"
      },
      "outputs": [
        {
          "output_type": "stream",
          "name": "stdout",
          "text": [
            "Number of patients present in all dataframes and the survival dataframe: 172\n",
            "CLI Train: (258, 46)\n",
            "CLI Test: (40, 46)\n",
            "CT Train: (234, 331)\n",
            "CT Test: (40, 331)\n",
            "DD Train: (135, 312)\n",
            "DD Test: (40, 312)\n",
            "PET Train: (231, 204)\n",
            "PET Test: (40, 204)\n"
          ]
        }
      ],
      "source": [
        "# 1. Find Common Patients\n",
        "# Start with the patients in the survival dataframe\n",
        "common_patients = set(survival.index)\n",
        "\n",
        "# Find intersection with patients in each omics dataframe\n",
        "for omic_name, df in dataframes.items():\n",
        "    common_patients = common_patients.intersection(df.index)\n",
        "\n",
        "print(\"Number of patients present in all dataframes and the survival dataframe:\", len(common_patients))\n",
        "\n",
        "# 2. Perform Stratified Sampling\n",
        "# Filter the survival dataframe to only the common patients\n",
        "filtered_survival_df = survival.loc[common_patients]\n",
        "\n",
        "from sklearn.model_selection import StratifiedShuffleSplit\n",
        "\n",
        "# Set the number of patients for the test set\n",
        "n_test_patients = 40\n",
        "\n",
        "splitter = StratifiedShuffleSplit(n_splits=1, test_size=n_test_patients, random_state=42)\n",
        "train_index, test_index = next(splitter.split(filtered_survival_df, filtered_survival_df['Death']))\n",
        "\n",
        "train_patients = filtered_survival_df.iloc[train_index].index\n",
        "test_patients = filtered_survival_df.iloc[test_index].index\n",
        "\n",
        "# 3. Split the Dataframes\n",
        "dataframes_train = {}\n",
        "dataframes_test = {}\n",
        "\n",
        "for omic_name, df in dataframes.items():\n",
        "    dataframes_train[omic_name] = df.loc[df.index.difference(test_patients)]  # All rows except the test patients\n",
        "    dataframes_test[omic_name] = df.loc[test_patients]\n",
        "\n",
        "# Displaying sizes\n",
        "for omic_name, df_train in dataframes_train.items():\n",
        "    print(f\"{omic_name} Train: {df_train.shape}\")\n",
        "    print(f\"{omic_name} Test: {dataframes_test[omic_name].shape}\")"
      ]
    },
    {
      "cell_type": "markdown",
      "metadata": {
        "id": "x6SfFjirQe_y"
      },
      "source": [
        "### **Data standardization**"
      ]
    },
    {
      "cell_type": "markdown",
      "metadata": {
        "id": "PU2RPwqtwvqa"
      },
      "source": [
        "Next, we apply the MinMaxScaler to normalize every DataFrame in the provided dictionary, ensuring that all numerical features lie between 0 and 1. This step is essential for many machine learning algorithms, as it guarantees consistent influence of each feature during training. However, DataFrames labeled \"CLI\" are deliberately excluded from this transformation to preserve their original state. Through this scaling process, we strive to boost model accuracy and predictive capability."
      ]
    },
    {
      "cell_type": "code",
      "source": [
        "for df,item in dataframes.items():\n",
        "  print(item.shape)"
      ],
      "metadata": {
        "colab": {
          "base_uri": "https://localhost:8080/"
        },
        "id": "2Ldex3kY9eNE",
        "outputId": "d51129c4-1b5b-4e46-c278-85be09efd08b"
      },
      "execution_count": null,
      "outputs": [
        {
          "output_type": "stream",
          "name": "stdout",
          "text": [
            "(298, 46)\n",
            "(274, 331)\n",
            "(175, 312)\n",
            "(271, 204)\n"
          ]
        }
      ]
    },
    {
      "cell_type": "code",
      "execution_count": null,
      "metadata": {
        "id": "ONrsh0U-ldie"
      },
      "outputs": [],
      "source": [
        "def scale_dataframes(dataframes_train_dict, dataframes_test_dict):\n",
        "    \"\"\"\n",
        "    Scales all dataframes in the provided training dictionary using StandardScaler and\n",
        "    applies the transformation learned from each training dataframe\n",
        "    to the corresponding dataframe in the test dictionary.\n",
        "\n",
        "    Parameters:\n",
        "    - dataframes_train_dict (dict): Dictionary containing training dataframes to be scaled.\n",
        "    - dataframes_test_dict (dict): Dictionary containing test dataframes where the scaling transformation learned from the training data is applied.\n",
        "\n",
        "    Returns:\n",
        "    - tuple: (Dictionary containing scaled training dataframes, Dictionary containing scaled test dataframes)\n",
        "    \"\"\"\n",
        "    scaled_train_dict = {}\n",
        "    scaled_test_dict = {}\n",
        "\n",
        "    for key, train_df in dataframes_train_dict.items():\n",
        "        if key != \"CLI\":\n",
        "            scaler = StandardScaler()\n",
        "\n",
        "            # Fit and transform the training data\n",
        "            scaled_train_data = scaler.fit_transform(train_df)\n",
        "            scaled_train_dict[key] = pd.DataFrame(scaled_train_data, columns=train_df.columns, index=train_df.index)\n",
        "\n",
        "\n",
        "            if dataframes_test_dict:\n",
        "              # Transform the test data based on the fitted scaler\n",
        "              test_df = dataframes_test_dict.get(key, pd.DataFrame())  # get the test dataframe for the current key, if it doesn't exist, use an empty dataframe\n",
        "              scaled_test_data = scaler.transform(test_df)\n",
        "              scaled_test_dict[key] = pd.DataFrame(scaled_test_data, index=test_df.index, columns=test_df.columns)\n",
        "        else:\n",
        "            scaled_train_dict[key] = train_df\n",
        "            if dataframes_test_dict:\n",
        "              scaled_test_dict[key] = dataframes_test_dict[key]\n",
        "\n",
        "    return scaled_train_dict, scaled_test_dict"
      ]
    },
    {
      "cell_type": "markdown",
      "metadata": {
        "id": "qi_SMEG_wwVH"
      },
      "source": [
        "Alternatively we can perform a Z-score normalization. This normalization method standardizes features by removing the mean and scaling to unit variance, thereby ensuring a consistent weight for each feature in subsequent analyses.  Opting for Z-score normalization offers an alternative approach to the MinMax scaling, catering to different modeling needs and data characteristics."
      ]
    },
    {
      "cell_type": "code",
      "execution_count": null,
      "metadata": {
        "id": "ddNlfQGIQfNU"
      },
      "outputs": [],
      "source": [
        "from sklearn.preprocessing import StandardScaler\n",
        "import pandas as pd\n",
        "\n",
        "def scale_dataframes_zscore(dataframes_train_dict, dataframes_test_dict=None):\n",
        "    \"\"\"\n",
        "    Applies Z-score normalization to all dataframes in the provided training dictionary and\n",
        "    uses the scaler trained on each dataframe in the dictionary to scale\n",
        "    the corresponding dataframe in the test dictionary.\n",
        "\n",
        "    Parameters:\n",
        "    - dataframes_train_dict (dict): Dictionary containing training dataframes to be normalized.\n",
        "    - dataframes_test_dict (dict): Dictionary containing test dataframes where the scaling transformation learned from the training data is applied.\n",
        "\n",
        "    Returns:\n",
        "    - tuple: (Dictionary containing scaled training dataframes, Dictionary containing scaled test dataframes)\n",
        "    \"\"\"\n",
        "    scaler = StandardScaler()\n",
        "    scaled_train_dict = {}\n",
        "    scaled_test_dict = {}\n",
        "\n",
        "    for key, train_df in dataframes_train_dict.items():\n",
        "        if key != \"CLI\":\n",
        "            # Fit on the training data\n",
        "            scaler.fit(train_df)\n",
        "\n",
        "            # Transform training data\n",
        "            scaled_train_data = scaler.transform(train_df)\n",
        "            scaled_train_dict[key] = pd.DataFrame(scaled_train_data, columns=train_df.columns, index=train_df.index)\n",
        "\n",
        "            # Check if the key exists in dataframes_test_dict\n",
        "            if dataframes_test_dict:\n",
        "              if key in dataframes_test_dict:\n",
        "                  # Transform the test data using the fitted scaler\n",
        "                  test_df = dataframes_test_dict[key]\n",
        "                  scaled_test_data = scaler.transform(test_df)\n",
        "                  scaled_test_dict[key] = pd.DataFrame(scaled_test_data, columns=test_df.columns, index=test_df.index)\n",
        "              else:\n",
        "                  print(f\"Warning: Key '{key}' not found in test data dictionary.\")\n",
        "        else:\n",
        "            scaled_train_dict[key] = train_df\n",
        "            if dataframes_test_dict:\n",
        "              if key in dataframes_test_dict:\n",
        "                  scaled_test_dict[key] = dataframes_test_dict[key]\n",
        "              else:\n",
        "                  print(f\"Warning: Key '{key}' not found in test data dictionary.\")\n",
        "\n",
        "    return scaled_train_dict, scaled_test_dict\n",
        "\n",
        "dataframes, _ = scale_dataframes_zscore(dataframes)\n"
      ]
    },
    {
      "cell_type": "markdown",
      "source": [
        "Our final dataframes:"
      ],
      "metadata": {
        "id": "F0ZF1k39IKtw"
      }
    },
    {
      "cell_type": "code",
      "source": [
        "for df,item in dataframes_train.items():\n",
        "  print(item.shape)"
      ],
      "metadata": {
        "colab": {
          "base_uri": "https://localhost:8080/"
        },
        "id": "unsdhYT38wY3",
        "outputId": "50fe681e-4986-4c63-9db4-ed2f905899c9"
      },
      "execution_count": null,
      "outputs": [
        {
          "output_type": "stream",
          "name": "stdout",
          "text": [
            "(258, 46)\n",
            "(234, 331)\n",
            "(135, 312)\n",
            "(231, 204)\n"
          ]
        }
      ]
    },
    {
      "cell_type": "markdown",
      "source": [
        "# **Reflection and Further Improvements**"
      ],
      "metadata": {
        "id": "7H6lCjQ4VH_5"
      }
    },
    {
      "cell_type": "markdown",
      "source": [
        "As we wrap up this notebook, it's essential to think on how to enhance our preprocessing steps. Effective preprocessing can significantly influence subsequent analysis and results.\n",
        "\n",
        "### 1. Custom Preprocessing for Different Omics:\n",
        "Each omics data layer might have distinct characteristics. By examining the shape and distribution of data for each omics type, we can design preprocessing steps tailored to each specific omics layer.\n",
        "### 2. Resampling in Feature Reduction:\n",
        "Instead of using the same data set for feature reduction, consider employing resampling methods. Techniques like bootstrapping can provide a more robust set of features.\n",
        "### 3.Diverse Methods for Feature Reduction:\n",
        "While we've utilized certain feature reduction techniques, exploring other methods or a combination of several can often yield better results.\n",
        "\n",
        "### 4. Incorporating Known Biomarkers:\n",
        "If there are well-known biomarkers relevant to your study, consider incorporating them into the feature reduction process. These can act as reference points and provide a biological context to the selected features."
      ],
      "metadata": {
        "id": "oMeky9pNTFrH"
      }
    }
  ],
  "metadata": {
    "colab": {
      "provenance": [],
      "collapsed_sections": [
        "Ofl3Hj2sSAbt",
        "I3uivwNdR1_t",
        "-v7jy3yPEspx",
        "gC5_1hfSCJuE",
        "Cc5wFpkMRnRD",
        "1nXJlQfPl35w",
        "7H6lCjQ4VH_5"
      ],
      "include_colab_link": true
    },
    "kernelspec": {
      "display_name": "Python 3",
      "name": "python3"
    },
    "language_info": {
      "name": "python"
    }
  },
  "nbformat": 4,
  "nbformat_minor": 0
}