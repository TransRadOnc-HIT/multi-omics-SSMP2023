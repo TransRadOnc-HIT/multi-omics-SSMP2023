{
  "nbformat": 4,
  "nbformat_minor": 0,
  "metadata": {
    "colab": {
      "provenance": [],
      "collapsed_sections": [
        "LPjFa7s5Sbd7",
        "jhQjFy1Zvt8J"
      ],
      "include_colab_link": true
    },
    "kernelspec": {
      "name": "python3",
      "display_name": "Python 3"
    },
    "language_info": {
      "name": "python"
    }
  },
  "cells": [
    {
      "cell_type": "markdown",
      "metadata": {
        "id": "view-in-github",
        "colab_type": "text"
      },
      "source": [
        "<a href=\"https://colab.research.google.com/github/TransRadOnc-HIT/multi-omics-SSMP2023/blob/main/Hands_on_3_MachineLearningView_MOFA.ipynb\" target=\"_parent\"><img src=\"https://colab.research.google.com/assets/colab-badge.svg\" alt=\"Open In Colab\"/></a>"
      ]
    },
    {
      "cell_type": "markdown",
      "source": [
        "# Machine learning view to multi-omics integration 2 -  multi-omics Factor Analysis (MOFA)\n",
        "\n",
        "This notebook is dedicated to the exploration and application of Multi-omics Factor Analysis (MOFA) on the dataset derived from the TCGA GBM cohort. The dataset has already been preprocessed for our analysis.\n",
        "\n",
        "## Data Reference:\n",
        "- [The Cancer Imaging Archive (TCGA GBM cohort)](https://portal.gdc.cancer.gov/projects/TCGA-GBM)\n",
        "\n",
        "While there is **no immediate necessity to download the dataset**, those who are interested in obtaining it directly can download from the provided link. Should you choose to do this, please adjust the `data_path` variable to align with the directory where your dataset is located.\n",
        "\n",
        "## About MOFA:\n",
        "For more on MOFA, you can find comprehensive information and resources on the [official MOFA website](https://biofam.github.io/MOFA2/index.html).\n",
        "\n",
        "## Omics Types Under Investigation:\n",
        "- Clinical Data\n",
        "- T1w-preCA Imaging Data\n",
        "- T1w-postCA Imaging Data\n",
        "- T2w-FLAIR Imaging Data\n",
        "- T2w Imaging Data\n",
        "- Genomic Data\n",
        "- Methylation Data\n",
        "- miRNA Data\n"
      ],
      "metadata": {
        "id": "BUtoDM4cV_Xq"
      }
    },
    {
      "cell_type": "markdown",
      "source": [
        "### **Setup**\n",
        "We will quickly install the necessary packages which do not come with Google Colab direclty, load the necessary imports and set the data path."
      ],
      "metadata": {
        "id": "8w_yDFJxhzvx"
      }
    },
    {
      "cell_type": "code",
      "source": [
        "!pip install lifelines mofapy2 mofax pyqt5"
      ],
      "metadata": {
        "id": "xg2We1Y7h5WZ"
      },
      "execution_count": null,
      "outputs": []
    },
    {
      "cell_type": "markdown",
      "source": [
        "Let's continue with the necessary imports and setting the `data_path`."
      ],
      "metadata": {
        "id": "yajvxCUBZgm7"
      }
    },
    {
      "cell_type": "code",
      "source": [
        "# Integrating with Google Drive, in case you want to download the data or add some of your own - uncomment\n",
        "# from google.colab import drive\n",
        "# drive.mount('/content/drive')\n",
        "\n",
        "import pickle\n",
        "import numpy as np\n",
        "import pandas as pd\n",
        "import matplotlib.pyplot as plt\n",
        "import seaborn as sns\n",
        "import warnings\n",
        "from collections import Counter\n",
        "from os import path\n",
        "import os\n",
        "from sklearn.feature_selection import VarianceThreshold\n",
        "from sklearn.preprocessing import MinMaxScaler\n",
        "from lifelines import KaplanMeierFitter\n",
        "from mofapy2.run.entry_point import entry_point\n",
        "from itertools import combinations\n",
        "from collections import Counter #Supports iterations\n",
        "\n",
        "warnings.filterwarnings('ignore') #Ignores all warnings\n",
        "\n",
        "\n",
        "data_path = 'https://raw.githubusercontent.com/TransRadOnc-HIT/multi-omics-SSMP2023/main/data/hands-on3'\n",
        "\n",
        "# Please use this data_path and adapt it if you download the data or use your own later\n",
        "# data_path = '/content/drive/MyDrive/your_data_folder_path_here/'"
      ],
      "metadata": {
        "id": "muq7pyrTZf-Q"
      },
      "execution_count": null,
      "outputs": []
    },
    {
      "cell_type": "markdown",
      "source": [
        "### **Data loading and preparation**\n",
        "First, we will load the preprocessed data (.csv files) as Pandas dataframes. With the following function we will get:\n",
        "- 1 DataFrame containing the clinical data\n",
        "- 2 DataFrames for testing, 1 containing only clinical data, 1 containing everything else without clinical data\n",
        "- 1 dictionary containing all the other dataframes without clinical data\n"
      ],
      "metadata": {
        "id": "0nxhOYwKYw-1"
      }
    },
    {
      "cell_type": "code",
      "source": [
        "files = [\n",
        "    \"CLI_preprocessed.csv\",\n",
        "    \"FLAIR_GENE_METHY_MIRNA_T1_T1Gd_T2.mofa.hdf5\",\n",
        "    \"FLAIR_preprocessed.csv\",\n",
        "    \"GENE_preprocessed.csv\",\n",
        "    \"METHY_preprocessed.csv\",\n",
        "    \"MIRNA_preprocessed.csv\",\n",
        "    \"T1Gd_preprocessed.csv\",\n",
        "    \"T1_preprocessed.csv\",\n",
        "    \"T2_preprocessed.csv\",\n",
        "    \"clinical.csv\",\n",
        "    \"survival.csv\",\n",
        "    \"test_dataframe_preprocessed.csv\"\n",
        "]"
      ],
      "metadata": {
        "id": "wKPuI8YS7z6C"
      },
      "execution_count": null,
      "outputs": []
    },
    {
      "cell_type": "code",
      "execution_count": null,
      "metadata": {
        "id": "hj_DzCjCR_Ir"
      },
      "outputs": [],
      "source": [
        "def load_processed_dataframes(files, directory=\".\"):\n",
        "    \"\"\"\n",
        "    Load the files from a directory which contain '_preprocessed' in their name.\n",
        "    Split them into a clinical data dataframe, testing data with and without clinical dataframes, and a dictionary with everything else.\n",
        "\n",
        "    Parameters:\n",
        "      directory (str): Directory to load the CSV files from. Defaults to the current directory.\n",
        "\n",
        "    Returns:\n",
        "      cli_dataframe: Dataframe containing the CLI data.\n",
        "      test_dataframe_cli: Portion of the test dataframe containing only CLI features.\n",
        "      test_dataframe_other: Portion of the test dataframe containing features other than CLI.\n",
        "      dict: Dictionary containing other dataframes loaded from CSV files.\n",
        "    \"\"\"\n",
        "\n",
        "    dataframes = {\n",
        "        \"FLAIR\": None,\n",
        "        \"GENE\": None,\n",
        "        \"METHY\": None,\n",
        "        \"MIRNA\": None,\n",
        "        \"T1\": None,\n",
        "        \"T1Gd\": None,\n",
        "        \"T2\": None\n",
        "    }\n",
        "\n",
        "    cli_dataframe = None\n",
        "    test_dataframe_cli = None\n",
        "    test_dataframe_other = None\n",
        "\n",
        "    # First, specifically load the CLI dataframe\n",
        "    if \"CLI_preprocessed.csv\" in files:\n",
        "        cli_dataframe = pd.read_csv(f\"{directory}/CLI_preprocessed.csv\", index_col=0)\n",
        "        print(f\"Loaded: CLI_preprocessed.csv with shape {cli_dataframe.shape}\")\n",
        "    else:\n",
        "        raise ValueError(\"CLI_preprocessed.csv not found in the specified directory.\")\n",
        "\n",
        "    for file_name in files:\n",
        "        if \"_preprocessed.csv\" in file_name and file_name != \"CLI_preprocessed.csv\": # We already loaded CLI\n",
        "            key = file_name.replace(\"_preprocessed.csv\", \"\")\n",
        "            dataframe = pd.read_csv(f\"{directory}/{file_name}\", index_col=0)\n",
        "\n",
        "            if key == \"test_dataframe\":\n",
        "                test_dataframe_cli = dataframe[dataframe.columns.intersection(cli_dataframe.columns)]\n",
        "                test_dataframe_other = dataframe.drop(test_dataframe_cli.columns, axis=1)\n",
        "                print(f\"Loaded: {file_name} and split it into CLI and other data with shapes {test_dataframe_cli.shape} and {test_dataframe_other.shape}\")\n",
        "\n",
        "            elif key in dataframes:\n",
        "                dataframes[key] = dataframe\n",
        "                print(f\"Loaded: {file_name} with shape {dataframe.shape}\")\n",
        "\n",
        "    return cli_dataframe, test_dataframe_cli, test_dataframe_other, dataframes\n",
        "\n",
        "cli_dataframe, test_dataframe_cli, test_dataframe_other, dataframes  =  load_processed_dataframes(files, data_path)"
      ]
    },
    {
      "cell_type": "code",
      "source": [
        "for key, df in dataframes.items():\n",
        "    if df is not None:  # Check if the dataframe is not empty\n",
        "        missing_ids = df.index.difference(cli_dataframe.index)\n",
        "\n",
        "        if not missing_ids.empty:\n",
        "            dataframes[key] = df.drop(missing_ids)  # Remove the missing IDs from the dataframe\n",
        "            print(f\"Removed IDs not present in cli_dataframe from {key} dataframe.\")\n",
        "        else:\n",
        "            print(f\"All IDs in {key} dataframe are present in cli_dataframe.\")\n"
      ],
      "metadata": {
        "id": "UmkzUsgJtne8"
      },
      "execution_count": null,
      "outputs": []
    },
    {
      "cell_type": "markdown",
      "source": [
        "We will now create all possible combinations of omics datasets."
      ],
      "metadata": {
        "id": "qoT0EdC6hQ3l"
      }
    },
    {
      "cell_type": "code",
      "source": [
        "def generate_omics_combinations(dataframes_dict):\n",
        "  \"\"\"\n",
        "  The function is designed to create a list of unique combinations from a dictionary of omics datasets.\n",
        "  It will generate all possible combinations of omics datasets, considering different groupings from a\n",
        "  single omics dataset to all available omics datasets.\n",
        "  These combinations are sorted and stored in a list.\n",
        "\n",
        "  Parameters:\n",
        "    dataframes_dict (dict): A dictionary where keys represent the names of omics datasets, and values\n",
        "    represent the corresponding dataframes.\n",
        "\n",
        "  Returns:\n",
        "    list: A list containing unique combinations of omics datasets, sorted in a specific order.\n",
        "\n",
        "  \"\"\"\n",
        "  omics_combinations = set()\n",
        "  for r in range(1, len(dataframes_dict) + 1):\n",
        "      for combo in combinations(dataframes_dict.keys(), r):\n",
        "          sorted_combo = tuple(sorted(combo))\n",
        "          omics_combinations.add(sorted_combo)\n",
        "\n",
        "  return list(omics_combinations)\n",
        "\n",
        "#\n",
        "# omics_combinations = generate_omics_combinations(dataframes)\n",
        "omics_combinations = [('FLAIR', 'GENE','METHY','MIRNA','T1','T1Gd','T2')]"
      ],
      "metadata": {
        "id": "NQnJFqycgb7E"
      },
      "execution_count": null,
      "outputs": []
    },
    {
      "cell_type": "markdown",
      "source": [
        "### **Initialize and train MOFA models**\n",
        "Next, we will:\n",
        "- calculate weights in case different omics layers have different number of features\n",
        "- create MOFA compatible dataframes which will include the different combinations we returned earlier (everything without clinical), further called MOFA models (.hdf5 files). This means training the model.\n",
        "\n",
        "*Note*: You do not have to run this cell, as the training might take a little bit of time (around 5 minutes). We are loading the already trained and saved model in the next cell, but if you want you can of course look around and run the training.\n"
      ],
      "metadata": {
        "id": "8u2MgPaOSDSn"
      }
    },
    {
      "cell_type": "code",
      "source": [
        "def calculate_weights(dataframes_dict, omics_list):\n",
        "    \"\"\"\n",
        "    The function serves the purpose of computing normalized weights based on the number\n",
        "    of columns (features) in specified datasets. It is particularly useful when dealing with\n",
        "    multiple datasets or omics types in a data analysis context. The function calculates weights\n",
        "    that can be used to balance the influence of different datasets in subsequent analyses.\n",
        "\n",
        "    Parameters:\n",
        "      dataframes_dict (dict): A dictionary where keys represent the names of datasets or omics types,\n",
        "                              and values represent the corresponding dataframes.\n",
        "      omics_list (list): A list containing the names of the selected datasets or omics types for which\n",
        "                        weights need to be calculated.\n",
        "\n",
        "    Returns:\n",
        "      list: A list of normalized weights, one for each dataset in the omics_list.\n",
        "            These weights are proportional to the number of features in each dataset and are normalized\n",
        "            to ensure their sum equals the total number of datasets.\n",
        "    \"\"\"\n",
        "\n",
        "    # Extracting number of columns (features) for selected datasets\n",
        "    num_features = [dataframes_dict[omics].shape[1] for omics in omics_list]\n",
        "\n",
        "    # Calculating inverse weights\n",
        "    inverse_weights = [1.0/feat for feat in num_features]\n",
        "\n",
        "    # Normalizing the weights\n",
        "    total_datasets = len(omics_list)\n",
        "    normalized_weights = [total_datasets * weight/sum(inverse_weights) for weight in inverse_weights]\n",
        "\n",
        "    return normalized_weights\n",
        "\n",
        "def create_mofa_dataframe(dataframes_dict, omics_list):\n",
        "  \"\"\"\n",
        "  The function is designed to construct a unified dataframe suitable for Multi-Omics Factor Analysis (MOFA)\n",
        "  from a collection of omics datasets. MOFA is a technique used in bioinformatics and data analysis to integrate\n",
        "  multiple omics data sources for exploration and modeling. This function facilitates the conversion of separate\n",
        "  omics dataframes into a single format compatible with MOFA.\n",
        "\n",
        "  Parameters:\n",
        "    dataframes_dict (dict): A dictionary where keys represent the names of omics datasets, and values represent\n",
        "                            the corresponding dataframes.\n",
        "    omics_list (list): A list containing the names of the omics datasets to be included in the unified MOFA dataframe.\n",
        "\n",
        "  Returns:\n",
        "    pandas.DataFrame: A single, concatenated dataframe containing data from the specified omics datasets,\n",
        "                      appropriately formatted for MOFA analysis.\n",
        "  \"\"\"\n",
        "\n",
        "  data_list = []\n",
        "  for omics_name in omics_list:\n",
        "      df = dataframes_dict[omics_name]\n",
        "      df_reset = df.reset_index().rename(columns={'index': 'sample'})\n",
        "\n",
        "      melted = df_reset.melt(id_vars='sample', var_name=\"feature\", value_name=\"value\")\n",
        "      melted = melted.dropna(subset=['value'])  # Drop rows with NaN in 'value' column\n",
        "      melted['view'] = omics_name\n",
        "      melted['group'] = \"group1\"\n",
        "      data_list.append(melted)\n",
        "  return pd.concat(data_list, ignore_index=True)\n",
        "\n",
        "# Looping through all the combinations and saving each created dataframe as a .mofa.hdf5 model file.\n",
        "for omics_list in omics_combinations:\n",
        "    print(\"Training for omics combination:\", omics_list)\n",
        "\n",
        "    # Set likelihoods based on omics_list\n",
        "    likelihoods = [\"gaussian\" if omic != \"CLI\" else \"bernoulli\" for omic in omics_list]\n",
        "    outfile_name = \"_\".join(omics_list) + \".mofa.hdf5\"\n",
        "    # outfile_name = path.join(data_path, outfile_name)\n",
        "\n",
        "    if not os.path.isfile(outfile_name):\n",
        "        # Initialize the entry point\n",
        "        ent = entry_point()\n",
        "        ent.set_data_options(scale_views=False)\n",
        "        #Weighted MOFA\n",
        "        weights = calculate_weights(dataframes, omics_list)\n",
        "        mofa_dataframe = create_mofa_dataframe(dataframes, omics_list)\n",
        "        mofa_dataframe['value'] = mofa_dataframe['value'].astype(float)\n",
        "        ent.set_data_df(mofa_dataframe, likelihoods=likelihoods)\n",
        "        ent.set_model_options(factors = 10, spikeslab_weights = True, ard_weights = True)\n",
        "        ent.set_train_options(convergence_mode = \"fast\", dropR2 = 0.001, gpu_mode = True, seed = 1, weight_views=weights)\n",
        "        # Modify the outfile name based on the omics combination\n",
        "        outfile_name = \"_\".join(omics_list) + \".mofa.hdf5\"\n",
        "        # outfile_name = path.join(data_path, outfile_name)\n",
        "\n",
        "        ent.build()\n",
        "        ent.run()\n",
        "        ent.save()"
      ],
      "metadata": {
        "id": "KdVp3O9NjLQK"
      },
      "execution_count": null,
      "outputs": []
    },
    {
      "cell_type": "markdown",
      "source": [
        "### **Load MOFA models, add metadata**\n",
        "We will now load all the previously created MOFA models."
      ],
      "metadata": {
        "id": "LPjFa7s5Sbd7"
      }
    },
    {
      "cell_type": "code",
      "source": [
        "import mofax as mfx\n",
        "import tempfile\n",
        "import requests\n",
        "\n",
        "def load_all_mofa_models(path_or_directory):\n",
        "  \"\"\"\n",
        "  The function is designed to load multiple Multi-Omics Factor Analysis (MOFA) models\n",
        "  stored in a specified directory. It systematically searches the given directory\n",
        "  for MOFA model files, loads each model, and stores them in a dictionary for convenient\n",
        "  access and further analysis.\n",
        "\n",
        "  Parameters:\n",
        "    directory (str): The directory path where MOFA model files are located.\n",
        "\n",
        "  Returns:\n",
        "    dict: A dictionary where keys represent the names of the MOFA models (derived\n",
        "          from the file names), and values are the corresponding loaded MOFA models.\n",
        "  \"\"\"\n",
        "    # Create an empty dictionary to store the models\n",
        "  models = {}\n",
        "\n",
        "  if 'tmp' in path_or_directory and path_or_directory.endswith('.hdf5'):\n",
        "          # If the path contains 'temp' and is a file, load the model directly from the temp path; this is a hard-coded line only for this workshop,\n",
        "          # if you want to use it later, please modify it accordingly\n",
        "          models['FLAIR_GENE_METHY_MIRNA_T1_T1Gd_T2'] = mfx.mofa_model(path_or_directory)\n",
        "  elif os.path.isdir(path_or_directory):\n",
        "      # If it's a directory, search for MOFA model files\n",
        "      directory = path_or_directory\n",
        "      for filename in os.listdir(directory):\n",
        "          if filename.endswith('.mofa.hdf5'):\n",
        "              filepath = os.path.join(directory, filename)\n",
        "              # Load the MOFA model and store it in the dictionary\n",
        "              models[filename.split('.mofa.hdf5')[0]] = mfx.mofa_model(filepath)\n",
        "  elif path_or_directory.endswith('.mofa.hdf5'):\n",
        "      # If it's a file with the correct extension, load it directly\n",
        "      response = requests.get(path_or_directory)\n",
        "      if response.status_code == 200:\n",
        "          # Create a temporary file to save the downloaded content\n",
        "          with tempfile.NamedTemporaryFile(delete=False) as temp_file:\n",
        "              temp_file.write(response.content)\n",
        "              temp_file_path = temp_file.name\n",
        "\n",
        "          # Now you can create an mofa_model from the downloaded file\n",
        "          models[os.path.basename(path_or_directory).split('.mofa.hdf5')[0]] = mfx.mofa_model(temp_file_path)\n",
        "\n",
        "          # After you're done, you can remove the temporary file\n",
        "          os.remove(temp_file_path)\n",
        "      else:\n",
        "          print('Failed to download the file from GitHub.')\n",
        "  else:\n",
        "      raise ValueError(\"Invalid path or directory. Please provide a valid path to a directory or a MOFA model file.\")\n",
        "\n",
        "  return models\n",
        "\n",
        "# We are loading the already trained model\n",
        "# all_models = load_all_mofa_models(data_path + '/FLAIR_GENE_METHY_MIRNA_T1_T1Gd_T2.mofa.hdf5')\n",
        "all_models = load_all_mofa_models('/tmp/mofa_20230919-163731.hdf5')\n",
        "# If you ran the previous cell and trained the model, you can load your trained model from the temp folder, just replace the name of the model mofa_\n",
        "# m = mfx.mofa_model('/tmp/mofa_20230919-163731.hdf5')\n",
        "# In the interest of time, we will further use only one of the combinations. It is of course interesting to check all\n",
        "# of the different combinations.\n",
        "\n",
        "m = all_models['FLAIR_GENE_METHY_MIRNA_T1_T1Gd_T2']\n",
        "model_samples = m.get_samples()['sample']"
      ],
      "metadata": {
        "id": "LFhA3jP1SKQj"
      },
      "execution_count": null,
      "outputs": []
    },
    {
      "cell_type": "markdown",
      "source": [
        "We will now manipulate the dataframes containing clinical data and testing data to match the MOFA Dataframe based on a list of IDs.\n"
      ],
      "metadata": {
        "id": "OEtyeeK4Sg_B"
      }
    },
    {
      "cell_type": "code",
      "source": [
        "def reorder_dataframe_rows(df, ordered_ids):\n",
        "    \"\"\"\n",
        "    Reorders the rows of the df dataframe based on the provided list of IDs ordered_ids.\n",
        "\n",
        "    Parameters:\n",
        "    - df (pd.DataFrame): The dataframe to be reordered.\n",
        "    - ordered_ids (list): List of IDs specifying the desired order.\n",
        "\n",
        "    Returns:\n",
        "    - pd.DataFrame: The reordered dataframe with the index reset and a new column \"sample\" added, replacing the index column.\n",
        "    \"\"\"\n",
        "    # Filter rows based on the IDs present in ordered_ids\n",
        "    valid_ordered_ids = [id_ for id_ in ordered_ids if id_ in df.index]\n",
        "\n",
        "    # Reorder rows based on the order of ordered_ids\n",
        "    reordered_df = df.reindex(valid_ordered_ids)\n",
        "    reordered_df.index.name = 'sample'\n",
        "\n",
        "    return reordered_df\n",
        "\n",
        "cli = reorder_dataframe_rows(cli_dataframe, model_samples)\n",
        "test_dataframe_cli = reorder_dataframe_rows(test_dataframe_cli, model_samples)\n",
        "test_dataframe_other = reorder_dataframe_rows(test_dataframe_other, model_samples)"
      ],
      "metadata": {
        "id": "pA46XwV3SfIX"
      },
      "execution_count": null,
      "outputs": []
    },
    {
      "cell_type": "markdown",
      "source": [
        "Next, we are setting the clinical data as medatadata for the model."
      ],
      "metadata": {
        "id": "JR8o2dAnSnol"
      }
    },
    {
      "cell_type": "code",
      "source": [
        "# Add metadata to the model\n",
        "m.metadata = m.metadata.join(cli)\n",
        "m.metadata = m.metadata.astype(str)"
      ],
      "metadata": {
        "id": "AbruEt_ESn2Z"
      },
      "execution_count": null,
      "outputs": []
    },
    {
      "cell_type": "markdown",
      "source": [
        "The modalities that we included in the analysis are T1-preCA, T1-postCA,T2w, T2w-FLAIR, genomics, methylation and miRNA. We can see the order of the layers in the views attribute of the model and later use that for visualizing the variance in each layer."
      ],
      "metadata": {
        "id": "V5uq6yDxYsDv"
      }
    },
    {
      "cell_type": "code",
      "source": [
        "m.get_views()"
      ],
      "metadata": {
        "colab": {
          "base_uri": "https://localhost:8080/"
        },
        "id": "tM6ye6GIwyKx",
        "outputId": "70fcc7f8-1722-4f2b-8698-6517f6b8a188"
      },
      "execution_count": null,
      "outputs": [
        {
          "output_type": "execute_result",
          "data": {
            "text/plain": [
              "['FLAIR', 'GENE', 'METHY', 'MIRNA', 'T1', 'T1Gd', 'T2']"
            ]
          },
          "metadata": {},
          "execution_count": 14
        }
      ]
    },
    {
      "cell_type": "markdown",
      "source": [
        "We can use the views with their order numbers: FLAIR = 0, GENE = 1, METHY = 2, etc. We will store them in a dictionary for easy access."
      ],
      "metadata": {
        "id": "jt4AZz0sZRST"
      }
    },
    {
      "cell_type": "code",
      "source": [
        "omics_dict = {omics: index for index, omics in enumerate(m.get_views())}"
      ],
      "metadata": {
        "id": "mZFDdVcsbOfK"
      },
      "execution_count": null,
      "outputs": []
    },
    {
      "cell_type": "markdown",
      "source": [
        "### **Visualization and interpretation**\n"
      ],
      "metadata": {
        "id": "jhQjFy1Zvt8J"
      }
    },
    {
      "cell_type": "markdown",
      "source": [
        "First we can quickly check the overall dimensions of the model"
      ],
      "metadata": {
        "id": "E3zPfCJOqqgZ"
      }
    },
    {
      "cell_type": "code",
      "source": [
        "print(f\"\"\"\\\n",
        "Cells: {m.shape[0]}\n",
        "Features: {m.shape[1]}\n",
        "Groups of cells: {', '.join(m.groups)}\n",
        "Views: {', '.join(m.views)}\n",
        "\"\"\")\n",
        "\n",
        "# HDF5 group\n",
        "print(\"HDF5 group:\\n\", m.weights)\n",
        "\n",
        "# np.ndarray\n",
        "print(\"\\nnp.ndarray:\\n\", m.get_weights()[:3,:5])\n",
        "\n",
        "# pd.DataFrame\n",
        "print(\"\\npd.DataFrame:\\n\", m.get_weights(df=True).iloc[:3,:5])"
      ],
      "metadata": {
        "id": "B5J3yFxMqq23"
      },
      "execution_count": null,
      "outputs": []
    },
    {
      "cell_type": "markdown",
      "source": [
        "#### Heatmap\n",
        "We can take a look at a global overview of top features by plotting a heatmap. Go ahead and take a look at different views (the omics layers) and different number of features by changing the parameter passed to `omics_dict`: string choosing from ['FLAIR', 'GENE', 'METHY', 'MIRNA', 'T1', 'T1Gd', 'T2'] and `n_features`: integer below."
      ],
      "metadata": {
        "id": "OwgtZ4IZZUuD"
      }
    },
    {
      "cell_type": "code",
      "source": [
        "mfx.plot_weights_heatmap(m, n_features=3, view=omics_dict['T1'],\n",
        "                         factors=range(0, 8),\n",
        "                         xticklabels_size=6, w_abs=True,\n",
        "                         cmap=\"viridis\", cluster_factors=False)"
      ],
      "metadata": {
        "id": "bcdC3N1HyqtB"
      },
      "execution_count": null,
      "outputs": []
    },
    {
      "cell_type": "markdown",
      "source": [
        "We can also take a look at the most important features for each layer (modify again the layer as you wish):"
      ],
      "metadata": {
        "id": "1Z7rUcCSjv7p"
      }
    },
    {
      "cell_type": "code",
      "source": [
        "mfx.plot_weights_ranked(m, factor=1,size=10,label_size=10,view=omics_dict['T1'])"
      ],
      "metadata": {
        "id": "PQRKkU_Ejwel"
      },
      "execution_count": null,
      "outputs": []
    },
    {
      "cell_type": "markdown",
      "source": [
        "#### Variance explained\n",
        "The most important insight that MOFA generates is the variance decomposition analysis. We will access this information and plot it so that we can understand the percentage of variance explained by each factor across each data modality."
      ],
      "metadata": {
        "id": "g6WO1JLlhrLx"
      }
    },
    {
      "cell_type": "code",
      "source": [
        "mfx.plot_r2(m, x='View',factors=list(range(10)), cmap=\"Blues\")"
      ],
      "metadata": {
        "colab": {
          "base_uri": "https://localhost:8080/",
          "height": 467
        },
        "id": "kHYTPcwpeJOs",
        "outputId": "395e3d51-d54e-41d7-e161-3f4a29582685"
      },
      "execution_count": null,
      "outputs": [
        {
          "output_type": "execute_result",
          "data": {
            "text/plain": [
              "<Figure size 640x480 with 2 Axes>"
            ],
            "image/png": "[encoded data removed]"
          },
          "metadata": {},
          "execution_count": 61
        }
      ]
    },
    {
      "cell_type": "markdown",
      "source": [
        "What insights from the data can we learn just from inspecting this plot?\n",
        "- Factor 1 captures variability in almost all of the layers\n",
        "- Factor 2 captures variability in the miRNA layer\n",
        "- Factor 7 captures a strong source of variability in the GENE omics layer"
      ],
      "metadata": {
        "id": "yuuoUN5CiXwX"
      }
    },
    {
      "cell_type": "markdown",
      "source": [
        "We can also take a look at the R2 values for each view and factor or plot the R2 values vs. factors so that we can assess which factor captures the most variability."
      ],
      "metadata": {
        "id": "RFH0UOfMfr7x"
      }
    },
    {
      "cell_type": "code",
      "source": [
        "# display the R2 values in descending order\n",
        "m.get_r2(factors=list(range(9))).sort_values(\"R2\", ascending=False).head()"
      ],
      "metadata": {
        "colab": {
          "base_uri": "https://localhost:8080/",
          "height": 206
        },
        "id": "eiJHA9_kVcrm",
        "outputId": "49d9a1d1-26b4-4e0e-cd8b-99dd27656d14"
      },
      "execution_count": null,
      "outputs": [
        {
          "output_type": "execute_result",
          "data": {
            "text/plain": [
              "     Factor   View   Group         R2\n",
              "43  Factor7   GENE  group1  18.790742\n",
              "2   Factor1  METHY  group1  15.448353\n",
              "6   Factor1     T2  group1  13.031955\n",
              "10  Factor2  MIRNA  group1  12.098010\n",
              "5   Factor1   T1Gd  group1  10.673563"
            ],
            "text/html": [
              "\n",
              "  <div id=\"df-9e18080d-e66f-44ca-964e-c5cf9104ad04\" class=\"colab-df-container\">\n",
              "    <div>\n",
              "<style scoped>\n",
              "    .dataframe tbody tr th:only-of-type {\n",
              "        vertical-align: middle;\n",
              "    }\n",
              "\n",
              "    .dataframe tbody tr th {\n",
              "        vertical-align: top;\n",
              "    }\n",
              "\n",
              "    .dataframe thead th {\n",
              "        text-align: right;\n",
              "    }\n",
              "</style>\n",
              "<table border=\"1\" class=\"dataframe\">\n",
              "  <thead>\n",
              "    <tr style=\"text-align: right;\">\n",
              "      <th></th>\n",
              "      <th>Factor</th>\n",
              "      <th>View</th>\n",
              "      <th>Group</th>\n",
              "      <th>R2</th>\n",
              "    </tr>\n",
              "  </thead>\n",
              "  <tbody>\n",
              "    <tr>\n",
              "      <th>43</th>\n",
              "      <td>Factor7</td>\n",
              "      <td>GENE</td>\n",
              "      <td>group1</td>\n",
              "      <td>18.790742</td>\n",
              "    </tr>\n",
              "    <tr>\n",
              "      <th>2</th>\n",
              "      <td>Factor1</td>\n",
              "      <td>METHY</td>\n",
              "      <td>group1</td>\n",
              "      <td>15.448353</td>\n",
              "    </tr>\n",
              "    <tr>\n",
              "      <th>6</th>\n",
              "      <td>Factor1</td>\n",
              "      <td>T2</td>\n",
              "      <td>group1</td>\n",
              "      <td>13.031955</td>\n",
              "    </tr>\n",
              "    <tr>\n",
              "      <th>10</th>\n",
              "      <td>Factor2</td>\n",
              "      <td>MIRNA</td>\n",
              "      <td>group1</td>\n",
              "      <td>12.098010</td>\n",
              "    </tr>\n",
              "    <tr>\n",
              "      <th>5</th>\n",
              "      <td>Factor1</td>\n",
              "      <td>T1Gd</td>\n",
              "      <td>group1</td>\n",
              "      <td>10.673563</td>\n",
              "    </tr>\n",
              "  </tbody>\n",
              "</table>\n",
              "</div>\n",
              "    <div class=\"colab-df-buttons\">\n",
              "\n",
              "  <div class=\"colab-df-container\">\n",
              "    <button class=\"colab-df-convert\" onclick=\"convertToInteractive('df-9e18080d-e66f-44ca-964e-c5cf9104ad04')\"\n",
              "            title=\"Convert this dataframe to an interactive table.\"\n",
              "            style=\"display:none;\">\n",
              "\n",
              "  <svg xmlns=\"http://www.w3.org/2000/svg\" height=\"24px\" viewBox=\"0 -960 960 960\">\n",
              "    <path d=\"M120-120v-720h720v720H120Zm60-500h600v-160H180v160Zm220 220h160v-160H400v160Zm0 220h160v-160H400v160ZM180-400h160v-160H180v160Zm440 0h160v-160H620v160ZM180-180h160v-160H180v160Zm440 0h160v-160H620v160Z\"/>\n",
              "  </svg>\n",
              "    </button>\n",
              "\n",
              "  <style>\n",
              "    .colab-df-container {\n",
              "      display:flex;\n",
              "      gap: 12px;\n",
              "    }\n",
              "\n",
              "    .colab-df-convert {\n",
              "      background-color: #E8F0FE;\n",
              "      border: none;\n",
              "      border-radius: 50%;\n",
              "      cursor: pointer;\n",
              "      display: none;\n",
              "      fill: #1967D2;\n",
              "      height: 32px;\n",
              "      padding: 0 0 0 0;\n",
              "      width: 32px;\n",
              "    }\n",
              "\n",
              "    .colab-df-convert:hover {\n",
              "      background-color: #E2EBFA;\n",
              "      box-shadow: 0px 1px 2px rgba(60, 64, 67, 0.3), 0px 1px 3px 1px rgba(60, 64, 67, 0.15);\n",
              "      fill: #174EA6;\n",
              "    }\n",
              "\n",
              "    .colab-df-buttons div {\n",
              "      margin-bottom: 4px;\n",
              "    }\n",
              "\n",
              "    [theme=dark] .colab-df-convert {\n",
              "      background-color: #3B4455;\n",
              "      fill: #D2E3FC;\n",
              "    }\n",
              "\n",
              "    [theme=dark] .colab-df-convert:hover {\n",
              "      background-color: #434B5C;\n",
              "      box-shadow: 0px 1px 3px 1px rgba(0, 0, 0, 0.15);\n",
              "      filter: drop-shadow(0px 1px 2px rgba(0, 0, 0, 0.3));\n",
              "      fill: #FFFFFF;\n",
              "    }\n",
              "  </style>\n",
              "\n",
              "    <script>\n",
              "      const buttonEl =\n",
              "        document.querySelector('#df-9e18080d-e66f-44ca-964e-c5cf9104ad04 button.colab-df-convert');\n",
              "      buttonEl.style.display =\n",
              "        google.colab.kernel.accessAllowed ? 'block' : 'none';\n",
              "\n",
              "      async function convertToInteractive(key) {\n",
              "        const element = document.querySelector('#df-9e18080d-e66f-44ca-964e-c5cf9104ad04');\n",
              "        const dataTable =\n",
              "          await google.colab.kernel.invokeFunction('convertToInteractive',\n",
              "                                                    [key], {});\n",
              "        if (!dataTable) return;\n",
              "\n",
              "        const docLinkHtml = 'Like what you see? Visit the ' +\n",
              "          '<a target=\"_blank\" href=https://colab.research.google.com/notebooks/data_table.ipynb>data table notebook</a>'\n",
              "          + ' to learn more about interactive tables.';\n",
              "        element.innerHTML = '';\n",
              "        dataTable['output_type'] = 'display_data';\n",
              "        await google.colab.output.renderOutput(dataTable, element);\n",
              "        const docLink = document.createElement('div');\n",
              "        docLink.innerHTML = docLinkHtml;\n",
              "        element.appendChild(docLink);\n",
              "      }\n",
              "    </script>\n",
              "  </div>\n",
              "\n",
              "\n",
              "<div id=\"df-b00b22f9-d032-4073-83c6-f6170b45a4bd\">\n",
              "  <button class=\"colab-df-quickchart\" onclick=\"quickchart('df-b00b22f9-d032-4073-83c6-f6170b45a4bd')\"\n",
              "            title=\"Suggest charts.\"\n",
              "            style=\"display:none;\">\n",
              "\n",
              "<svg xmlns=\"http://www.w3.org/2000/svg\" height=\"24px\"viewBox=\"0 0 24 24\"\n",
              "     width=\"24px\">\n",
              "    <g>\n",
              "        <path d=\"M19 3H5c-1.1 0-2 .9-2 2v14c0 1.1.9 2 2 2h14c1.1 0 2-.9 2-2V5c0-1.1-.9-2-2-2zM9 17H7v-7h2v7zm4 0h-2V7h2v10zm4 0h-2v-4h2v4z\"/>\n",
              "    </g>\n",
              "</svg>\n",
              "  </button>\n",
              "\n",
              "<style>\n",
              "  .colab-df-quickchart {\n",
              "      --bg-color: #E8F0FE;\n",
              "      --fill-color: #1967D2;\n",
              "      --hover-bg-color: #E2EBFA;\n",
              "      --hover-fill-color: #174EA6;\n",
              "      --disabled-fill-color: #AAA;\n",
              "      --disabled-bg-color: #DDD;\n",
              "  }\n",
              "\n",
              "  [theme=dark] .colab-df-quickchart {\n",
              "      --bg-color: #3B4455;\n",
              "      --fill-color: #D2E3FC;\n",
              "      --hover-bg-color: #434B5C;\n",
              "      --hover-fill-color: #FFFFFF;\n",
              "      --disabled-bg-color: #3B4455;\n",
              "      --disabled-fill-color: #666;\n",
              "  }\n",
              "\n",
              "  .colab-df-quickchart {\n",
              "    background-color: var(--bg-color);\n",
              "    border: none;\n",
              "    border-radius: 50%;\n",
              "    cursor: pointer;\n",
              "    display: none;\n",
              "    fill: var(--fill-color);\n",
              "    height: 32px;\n",
              "    padding: 0;\n",
              "    width: 32px;\n",
              "  }\n",
              "\n",
              "  .colab-df-quickchart:hover {\n",
              "    background-color: var(--hover-bg-color);\n",
              "    box-shadow: 0 1px 2px rgba(60, 64, 67, 0.3), 0 1px 3px 1px rgba(60, 64, 67, 0.15);\n",
              "    fill: var(--button-hover-fill-color);\n",
              "  }\n",
              "\n",
              "  .colab-df-quickchart-complete:disabled,\n",
              "  .colab-df-quickchart-complete:disabled:hover {\n",
              "    background-color: var(--disabled-bg-color);\n",
              "    fill: var(--disabled-fill-color);\n",
              "    box-shadow: none;\n",
              "  }\n",
              "\n",
              "  .colab-df-spinner {\n",
              "    border: 2px solid var(--fill-color);\n",
              "    border-color: transparent;\n",
              "    border-bottom-color: var(--fill-color);\n",
              "    animation:\n",
              "      spin 1s steps(1) infinite;\n",
              "  }\n",
              "\n",
              "  @keyframes spin {\n",
              "    0% {\n",
              "      border-color: transparent;\n",
              "      border-bottom-color: var(--fill-color);\n",
              "      border-left-color: var(--fill-color);\n",
              "    }\n",
              "    20% {\n",
              "      border-color: transparent;\n",
              "      border-left-color: var(--fill-color);\n",
              "      border-top-color: var(--fill-color);\n",
              "    }\n",
              "    30% {\n",
              "      border-color: transparent;\n",
              "      border-left-color: var(--fill-color);\n",
              "      border-top-color: var(--fill-color);\n",
              "      border-right-color: var(--fill-color);\n",
              "    }\n",
              "    40% {\n",
              "      border-color: transparent;\n",
              "      border-right-color: var(--fill-color);\n",
              "      border-top-color: var(--fill-color);\n",
              "    }\n",
              "    60% {\n",
              "      border-color: transparent;\n",
              "      border-right-color: var(--fill-color);\n",
              "    }\n",
              "    80% {\n",
              "      border-color: transparent;\n",
              "      border-right-color: var(--fill-color);\n",
              "      border-bottom-color: var(--fill-color);\n",
              "    }\n",
              "    90% {\n",
              "      border-color: transparent;\n",
              "      border-bottom-color: var(--fill-color);\n",
              "    }\n",
              "  }\n",
              "</style>\n",
              "\n",
              "  <script>\n",
              "    async function quickchart(key) {\n",
              "      const quickchartButtonEl =\n",
              "        document.querySelector('#' + key + ' button');\n",
              "      quickchartButtonEl.disabled = true;  // To prevent multiple clicks.\n",
              "      quickchartButtonEl.classList.add('colab-df-spinner');\n",
              "      try {\n",
              "        const charts = await google.colab.kernel.invokeFunction(\n",
              "            'suggestCharts', [key], {});\n",
              "      } catch (error) {\n",
              "        console.error('Error during call to suggestCharts:', error);\n",
              "      }\n",
              "      quickchartButtonEl.classList.remove('colab-df-spinner');\n",
              "      quickchartButtonEl.classList.add('colab-df-quickchart-complete');\n",
              "    }\n",
              "    (() => {\n",
              "      let quickchartButtonEl =\n",
              "        document.querySelector('#df-b00b22f9-d032-4073-83c6-f6170b45a4bd button');\n",
              "      quickchartButtonEl.style.display =\n",
              "        google.colab.kernel.accessAllowed ? 'block' : 'none';\n",
              "    })();\n",
              "  </script>\n",
              "</div>\n",
              "    </div>\n",
              "  </div>\n"
            ]
          },
          "metadata": {},
          "execution_count": 62
        }
      ]
    },
    {
      "cell_type": "code",
      "source": [
        "# plot the R2 values vs factors\n",
        "mfx.plot_r2_barplot(m)"
      ],
      "metadata": {
        "colab": {
          "base_uri": "https://localhost:8080/",
          "height": 504
        },
        "id": "ZCgX_blHfoXJ",
        "outputId": "f7dcf04b-d5db-4985-e2cb-93a818311dd4"
      },
      "execution_count": null,
      "outputs": [
        {
          "output_type": "execute_result",
          "data": {
            "text/plain": [
              "<Axes: xlabel='Factor', ylabel='R2'>"
            ]
          },
          "metadata": {},
          "execution_count": 63
        },
        {
          "output_type": "display_data",
          "data": {
            "text/plain": [
              "<Figure size 640x480 with 1 Axes>"
            ],
            "image/png": "[encoded data removed]"
          },
          "metadata": {}
        }
      ]
    },
    {
      "cell_type": "markdown",
      "source": [
        "#### Combination of factors"
      ],
      "metadata": {
        "id": "XEAN9SmpjdK_"
      }
    },
    {
      "cell_type": "code",
      "source": [
        "#Visualisation of combinations of factors\n",
        "m.metadata.group = m.metadata.CLI_CDE_chemo_alk_days_Medium\n",
        "mfx.plot_factors_scatter(m,x=\"Factor1\",y=\"Factor3\")\n",
        "m.metadata.group = 'group1'"
      ],
      "metadata": {
        "id": "aafRU5bFSwIy",
        "colab": {
          "base_uri": "https://localhost:8080/",
          "height": 487
        },
        "outputId": "7dc322ab-500c-4619-bb8a-4cdb11b75db3"
      },
      "execution_count": null,
      "outputs": [
        {
          "output_type": "display_data",
          "data": {
            "text/plain": [
              "<Figure size 640x480 with 1 Axes>"
            ],
            "image/png": "[encoded data removed]"
          },
          "metadata": {}
        }
      ]
    },
    {
      "cell_type": "code",
      "source": [
        "m.metadata"
      ],
      "metadata": {
        "id": "9XfWB5MXOhrT"
      },
      "execution_count": null,
      "outputs": []
    },
    {
      "cell_type": "code",
      "source": [
        "m = mfx.mofa_model('/tmp/mofa_20230919-163731.hdf5')\n",
        "m.metadata = m.metadata.join(cli)\n",
        "covariates = m.metadata.astype(bool)"
      ],
      "metadata": {
        "id": "TuBYoD3EUFIK"
      },
      "execution_count": null,
      "outputs": []
    },
    {
      "cell_type": "code",
      "source": [
        "mfx.plot_factors_covariates_correlation(m, covariates=covariates.iloc[:,30:50])"
      ],
      "metadata": {
        "id": "jwiKUPSja13x"
      },
      "execution_count": null,
      "outputs": []
    },
    {
      "cell_type": "markdown",
      "source": [
        "### **Survival Analysis**\n",
        "We will now use the MOFA factors to build Cox Proportional Hazard models and evaluate the predictive performance. It computes the mean cross-validated C-index for each model on survival data, allowing for a comparison of their effectiveness. The results are sorted in descending order based on the C-index, providing insights into the relative performance of the models."
      ],
      "metadata": {
        "id": "fFfm7-ujSzRa"
      }
    },
    {
      "cell_type": "code",
      "source": [
        "import os\n",
        "import mofax as mfx\n",
        "from lifelines import CoxPHFitter\n",
        "from sklearn.model_selection import KFold\n",
        "from sklearn.model_selection import train_test_split\n",
        "from lifelines.utils import concordance_index\n",
        "\n",
        "def cross_val_cox(model_factors, outcome_df, n_folds=10):\n",
        "  \"\"\"\n",
        "  The function is used to perform k-fold cross-validation for Cox Proportional Hazards models,\n",
        "  which are commonly employed in survival analysis. It assesses the performance of these models\n",
        "  on survival data by calculating the Concordance Index (C-index) as an evaluation metric.\n",
        "  The C-index measures the ability of the model to predict the relative order of survival times\n",
        "  for individuals in the dataset.\n",
        "\n",
        "  Parameters:\n",
        "    model_factors (DataFrame): A DataFrame containing the factors (features) used for modeling survival data.\n",
        "                              Each row represents an individual or sample, and each column represents a feature.\n",
        "    outcome_df (DataFrame): A DataFrame containing the survival outcome data. It typically includes two columns:\n",
        "                            'Survival' (time to event) and 'Death' (binary indicator of whether an event occurred).\n",
        "    n_folds (int, optional, default=10): The number of folds for k-fold cross-validation. This parameter controls\n",
        "                                        how the dataset is split into training and testing subsets. By default, it is set to 10.\n",
        "\n",
        "  Returns:\n",
        "    float: The mean Concordance Index (C-index) computed over all folds of cross-validation. A higher C-index indicates better predictive performance.\n",
        "  \"\"\"\n",
        "\n",
        "    # Initialize KFold cross-validation\n",
        "  kf = KFold(n_splits=n_folds, shuffle=True, random_state=42)\n",
        "\n",
        "  c_indices = []  # Store C-index for each fold\n",
        "\n",
        "  for train_idx, test_idx in kf.split(model_factors):\n",
        "      train_factors, test_factors = model_factors.iloc[train_idx], model_factors.iloc[test_idx]\n",
        "      train_outcome, test_outcome = outcome_df.iloc[train_idx], outcome_df.iloc[test_idx]\n",
        "\n",
        "      # Initialize Cox model\n",
        "      cph = CoxPHFitter()\n",
        "\n",
        "      # Train the Cox model\n",
        "      cph.fit(pd.concat([train_factors, train_outcome], axis=1), duration_col='Survival', event_col='Death')\n",
        "\n",
        "      # Predict the hazard for test set\n",
        "      hazards = cph.predict_partial_hazard(test_factors)\n",
        "\n",
        "      # Compute the concordance index for this fold\n",
        "      c_index = concordance_index(test_outcome['Survival'], -hazards, test_outcome['Death'])\n",
        "      c_indices.append(c_index)\n",
        "\n",
        "  # Compute mean C-index over all folds\n",
        "  mean_c_index = np.mean(c_indices)\n",
        "\n",
        "  return mean_c_index\n",
        "\n",
        "# Loading the survival outcomes\n",
        "survival = pd.read_csv(data_path + \"/survival.csv\",sep=',')\n",
        "#Reading survival data\n",
        "\n",
        "survival['PatientID'] = survival['PatientID'].str.upper() + '.01'\n",
        "\n",
        "survival = survival.set_index('PatientID')\n",
        "\n",
        "# Drop any rows with NaN values\n",
        "survival.dropna(inplace=True)\n",
        "\n",
        "# Assuming `outcome_df` is the outcome data with columns 'duration' and 'event'\n",
        "results = {}\n",
        "for key, model in all_models.items():\n",
        "    print(f\"Computing cross-validated C-index for {key}...\")\n",
        "\n",
        "    factors_array = model.get_factors()\n",
        "    samples = model.get_samples()\n",
        "    sample_names = samples['sample']\n",
        "\n",
        "    # Convert numpy array to DataFrame with sample names as index\n",
        "    factors = pd.DataFrame(factors_array, index=sample_names)\n",
        "\n",
        "    # Ensure common patients between factors and outcome_df\n",
        "    common_patients = factors.index.intersection(survival.index)\n",
        "    factors = factors.loc[common_patients].dropna()\n",
        "    filtered_outcome_df = survival.loc[common_patients]\n",
        "\n",
        "    results[key] = cross_val_cox(factors, filtered_outcome_df)\n",
        "\n",
        "# Print the results sorted by C-index\n",
        "sorted_results = sorted(results.items(), key=lambda x: x[1], reverse=True)\n",
        "for model_name, c_index in sorted_results:\n",
        "    print(f\"Model: {model_name}, Cross-validated C-index: {c_index:.4f}\")\n"
      ],
      "metadata": {
        "id": "3kbmpn7USznY",
        "colab": {
          "base_uri": "https://localhost:8080/"
        },
        "outputId": "0698c327-3d96-41ec-962b-13f8ac2e2830"
      },
      "execution_count": null,
      "outputs": [
        {
          "output_type": "stream",
          "name": "stdout",
          "text": [
            "Computing cross-validated C-index for FLAIR_GENE_METHY_MIRNA_T1_T1Gd_T2...\n",
            "Model: FLAIR_GENE_METHY_MIRNA_T1_T1Gd_T2, Cross-validated C-index: 0.6614\n"
          ]
        }
      ]
    },
    {
      "cell_type": "markdown",
      "source": [
        "We will assess the robustness and predictive performance of multiple Cox Proportional Hazards models using bootstrap resampling. We first calculate the mean bootstrap cross-validated C-index for each model on survival data, enabling a comparison of their stability and effectiveness. The results are sorted in descending order based on the C-index, providing insights into the relative performance of the models under resampling conditions."
      ],
      "metadata": {
        "id": "ZSZh8G8Myls7"
      }
    },
    {
      "cell_type": "code",
      "source": [
        "from lifelines import CoxPHFitter\n",
        "from lifelines.utils import concordance_index\n",
        "from sklearn.utils import resample\n",
        "\n",
        "def bootstrap_cross_val_cox(model_factors, outcome_df, n_bootstrap=100, l2_penalty=0.1):\n",
        "  \"\"\"\n",
        "  The function performs bootstrap cross-validation for Cox Proportional Hazards models,\n",
        "  commonly used in survival analysis. It assesses the model's stability and predictive\n",
        "  performance by resampling the dataset and computing the mean Concordance Index (C-index)\n",
        "  across multiple iterations. The C-index measures the model's ability to predict the\n",
        "  relative order of survival times for individuals in the dataset.\n",
        "\n",
        "  Parameters:\n",
        "    model_factors (DataFrame): A DataFrame containing the factors (features) used for\n",
        "                                modeling survival data. Rows represent individuals, and\n",
        "                                columns represent features.\n",
        "    outcome_df (DataFrame): A DataFrame with survival outcome data, typically including\n",
        "                            'Survival' (time to event) and 'Death' (binary event indicator) columns.\n",
        "    n_bootstrap (int, optional, default=100): The number of bootstrap iterations to perform.\n",
        "                                              Each iteration involves resampling the dataset to\n",
        "                                              create a new training set.\n",
        "    l2_penalty (float, optional, default=0.1): The L2 penalty parameter for the Cox model, which controls\n",
        "                                              the regularization strength during model training.\n",
        "\n",
        "  Returns:\n",
        "    float: The mean Concordance Index (C-index) computed over all bootstrap iterations.\n",
        "            A higher C-index indicates better predictive performance and model stability.\n",
        "  \"\"\"\n",
        "  c_indices = []  # Store C-index for each bootstrap iteration\n",
        "\n",
        "  for _ in range(n_bootstrap):\n",
        "      # Bootstrap resample the data\n",
        "      bootstrap_factors, bootstrap_outcome = resample(model_factors, outcome_df, replace=True)\n",
        "\n",
        "      # Initialize Cox model with L2 penalty\n",
        "      cph = CoxPHFitter(penalizer=l2_penalty)\n",
        "\n",
        "      # Train the Cox model on bootstrap data\n",
        "      cph.fit(pd.concat([bootstrap_factors, bootstrap_outcome], axis=1), duration_col='Survival', event_col='Death')\n",
        "\n",
        "      # Predict the hazard for original data\n",
        "      hazards = cph.predict_partial_hazard(model_factors)\n",
        "\n",
        "      # Compute the concordance index for this bootstrap iteration\n",
        "      c_index = concordance_index(outcome_df['Survival'], -hazards, outcome_df['Death'])\n",
        "      c_indices.append(c_index)\n",
        "\n",
        "  # Compute mean C-index over all bootstrap iterations\n",
        "  mean_c_index = np.mean(c_indices)\n",
        "\n",
        "  return mean_c_index\n",
        "\n",
        "# Assuming `outcome_df` is the outcome data with columns 'Survival' and 'Death'\n",
        "results = {}\n",
        "for key, model in all_models.items():\n",
        "    if key not in results.keys():\n",
        "      print(f\"Computing bootstrap cross-validated C-index for {key}...\")\n",
        "      try:\n",
        "        factors_array = model.get_factors()\n",
        "      except:\n",
        "        continue\n",
        "      samples = model.get_samples()\n",
        "      sample_names = samples['sample']\n",
        "\n",
        "      # Convert numpy array to DataFrame with sample names as index\n",
        "      factors = pd.DataFrame(factors_array, index=sample_names)\n",
        "\n",
        "      # Ensure common patients between factors and outcome_df\n",
        "      common_patients = factors.index.intersection(survival.index)\n",
        "      factors = factors.loc[common_patients].dropna()\n",
        "      filtered_outcome_df = survival.loc[common_patients]\n",
        "\n",
        "      results[key] = bootstrap_cross_val_cox(factors, filtered_outcome_df)\n",
        "\n",
        "# Print the results sorted by C-index\n",
        "sorted_results = sorted(results.items(), key=lambda x: x[1], reverse=True)\n",
        "for model_name, c_index in sorted_results:\n",
        "    print(f\"Model: {model_name}, Bootstrap cross-validated C-index: {c_index:.4f}\")"
      ],
      "metadata": {
        "id": "nDHRgGTgSy3s",
        "colab": {
          "base_uri": "https://localhost:8080/"
        },
        "outputId": "76aa436e-778c-47a7-af0e-d7eba5a3321c"
      },
      "execution_count": null,
      "outputs": [
        {
          "output_type": "stream",
          "name": "stdout",
          "text": [
            "Computing bootstrap cross-validated C-index for FLAIR_GENE_METHY_MIRNA_T1_T1Gd_T2...\n",
            "Model: FLAIR_GENE_METHY_MIRNA_T1_T1Gd_T2, Bootstrap cross-validated C-index: 0.6615\n"
          ]
        }
      ]
    },
    {
      "cell_type": "markdown",
      "source": [
        "**Exercise**\\\n",
        "Apply the model on the test dataset."
      ],
      "metadata": {
        "id": "8vNn50bfzhhn"
      }
    }
  ]
}